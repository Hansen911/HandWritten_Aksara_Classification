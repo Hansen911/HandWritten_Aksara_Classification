{
  "cells": [
    {
      "cell_type": "markdown",
      "metadata": {
        "id": "GXDFQODKBFdc"
      },
      "source": [
        "# Sunda Aksara Classification"
      ]
    },
    {
      "cell_type": "markdown",
      "metadata": {
        "id": "QkpTV5QVO6B7"
      },
      "source": [
        "Import raw data into colab"
      ]
    },
    {
      "cell_type": "code",
      "execution_count": 1,
      "metadata": {
        "colab": {
          "base_uri": "https://localhost:8080/"
        },
        "id": "e1mqCZBgN-QH",
        "outputId": "be9f6617-d95a-4820-901b-c269d94da729"
      },
      "outputs": [
        {
          "output_type": "stream",
          "name": "stdout",
          "text": [
            "Cloning into 'AksaraSundaCNN'...\n",
            "remote: Enumerating objects: 5780, done.\u001b[K\n",
            "remote: Counting objects: 100% (13/13), done.\u001b[K\n",
            "remote: Compressing objects: 100% (12/12), done.\u001b[K\n",
            "remote: Total 5780 (delta 3), reused 0 (delta 0), pack-reused 5767\u001b[K\n",
            "Receiving objects: 100% (5780/5780), 145.21 MiB | 16.67 MiB/s, done.\n",
            "Resolving deltas: 100% (299/299), done.\n",
            "Checking out files: 100% (11371/11371), done.\n"
          ]
        }
      ],
      "source": [
        "!git clone https://github.com/ridhomujizat/AksaraSundaCNN/"
      ]
    },
    {
      "cell_type": "markdown",
      "metadata": {
        "id": "4reN49DdO-af"
      },
      "source": [
        "Import package that we need"
      ]
    },
    {
      "cell_type": "code",
      "execution_count": 2,
      "metadata": {
        "id": "3hLZzBcTO_3v"
      },
      "outputs": [],
      "source": [
        "import os\n",
        "import random\n",
        "import tensorflow as tf\n",
        "import matplotlib.pyplot as plt\n",
        "from tensorflow.keras.preprocessing.image import ImageDataGenerator, array_to_img\n",
        "import pandas as pd\n",
        "import numpy as np\n",
        "import matplotlib.pyplot as plt\n",
        "%matplotlib inline\n",
        "from skimage.io import imread, imshow"
      ]
    },
    {
      "cell_type": "markdown",
      "metadata": {
        "id": "saeaCESDPCSm"
      },
      "source": [
        "Define root directory "
      ]
    },
    {
      "cell_type": "code",
      "execution_count": 3,
      "metadata": {
        "id": "l3LPfHBmO6tC"
      },
      "outputs": [],
      "source": [
        "root_path = '/content/AksaraSundaCNN'\n",
        "\n",
        "root_path_train = os.path.join(root_path, 'train')\n",
        "root_path_test = os.path.join(root_path, 'test')"
      ]
    },
    {
      "cell_type": "markdown",
      "metadata": {
        "id": "hNHx2XHjPFu5"
      },
      "source": [
        "Do the image augmentation and rescale image"
      ]
    },
    {
      "cell_type": "code",
      "execution_count": 4,
      "metadata": {
        "colab": {
          "base_uri": "https://localhost:8080/"
        },
        "id": "dFCkhI6GBdaN",
        "outputId": "c24b5f0a-96cf-4a73-e7ed-f227129da798"
      },
      "outputs": [
        {
          "output_type": "stream",
          "name": "stdout",
          "text": [
            "Found 3780 images belonging to 18 classes.\n",
            "Found 1620 images belonging to 18 classes.\n"
          ]
        }
      ],
      "source": [
        "train_datagen = ImageDataGenerator(rescale = 1./255,\n",
        "                                   width_shift_range = 0.2, height_shift_range = 0.2,\n",
        "                                   shear_range = 0.2, zoom_range = 0.2, fill_mode='nearest')\n",
        "\n",
        "train_data = train_datagen.flow_from_directory(\n",
        "    directory=root_path_train,\n",
        "    target_size=(112,112),\n",
        "    color_mode=\"grayscale\",\n",
        "    batch_size=30)\n",
        "\n",
        "validation_datagen = ImageDataGenerator(rescale = 1./255)\n",
        "\n",
        "validation_data = validation_datagen.flow_from_directory(\n",
        "    directory=root_path_test,\n",
        "    target_size=(112,112),\n",
        "    color_mode=\"grayscale\",\n",
        "    batch_size=30)"
      ]
    },
    {
      "cell_type": "markdown",
      "metadata": {
        "id": "pZKFf1VZYN3E"
      },
      "source": [
        "Fitur gambar"
      ]
    },
    {
      "cell_type": "code",
      "execution_count": 5,
      "metadata": {
        "colab": {
          "base_uri": "https://localhost:8080/",
          "height": 419
        },
        "id": "WKvgVwNXYN-F",
        "outputId": "6a0f7fe4-0d8e-4f1d-ee24-f851ab64889e"
      },
      "outputs": [
        {
          "output_type": "execute_result",
          "data": {
            "text/plain": [
              "((354, 354), array([[1., 1., 1., ..., 1., 1., 1.],\n",
              "        [1., 1., 1., ..., 1., 1., 1.],\n",
              "        [1., 1., 1., ..., 1., 1., 1.],\n",
              "        ...,\n",
              "        [1., 1., 1., ..., 1., 1., 1.],\n",
              "        [1., 1., 1., ..., 1., 1., 1.],\n",
              "        [1., 1., 1., ..., 1., 1., 1.]]))"
            ]
          },
          "metadata": {},
          "execution_count": 5
        },
        {
          "output_type": "display_data",
          "data": {
            "text/plain": [
              "<Figure size 432x288 with 1 Axes>"
            ],
            "image/png": "[encoded data removed]"
          },
          "metadata": {
            "needs_background": "light"
          }
        }
      ],
      "source": [
        "image = imread('/content/AksaraSundaCNN/train/ba/ba.105.jpg', as_gray=True)\n",
        "imshow(image)\n",
        "#checking image shape \n",
        "image.shape, image"
      ]
    },
    {
      "cell_type": "markdown",
      "metadata": {
        "id": "GAnpeAWbPNqg"
      },
      "source": [
        "Define the model"
      ]
    },
    {
      "cell_type": "code",
      "execution_count": 6,
      "metadata": {
        "id": "WZRk9bYOBwmE"
      },
      "outputs": [],
      "source": [
        "from tensorflow.keras.optimizers import RMSprop\n",
        "from tensorflow import keras\n",
        "model = tf.keras.models.Sequential([ \n",
        "      tf.keras.layers.Conv2D(256, (5,5), activation = 'relu', padding = 'same', input_shape=(112,112,1)),\n",
        "      tf.keras.layers.LeakyReLU(alpha=0.2),\n",
        "      tf.keras.layers.MaxPooling2D(2,2),\n",
        "      tf.keras.layers.Conv2D(256, (5,5)),\n",
        "      tf.keras.layers.LeakyReLU(alpha=0.3),\n",
        "      tf.keras.layers.MaxPooling2D(2,2),\n",
        "      tf.keras.layers.Conv2D(128, (5,5)),\n",
        "      tf.keras.layers.LeakyReLU(alpha=0.3),\n",
        "      tf.keras.layers.MaxPooling2D(2,2),\n",
        "      tf.keras.layers.Dropout(0.2),\n",
        "      tf.keras.layers.GlobalMaxPool2D(),\n",
        "      tf.keras.layers.Dense(1024),\n",
        "      tf.keras.layers.LeakyReLU(alpha=0.2),\n",
        "      tf.keras.layers.Dense(18, activation = 'softmax')\n",
        "  ])\n",
        "\n",
        "\n",
        "model.compile(optimizer=keras.optimizers.Adam(learning_rate=0.0005),\n",
        "                loss = tf.keras.losses.CategoricalCrossentropy(),\n",
        "                metrics = ['accuracy'])"
      ]
    },
    {
      "cell_type": "markdown",
      "metadata": {
        "id": "-91GjrslPPnk"
      },
      "source": [
        "Show model summary"
      ]
    },
    {
      "cell_type": "code",
      "execution_count": 7,
      "metadata": {
        "colab": {
          "base_uri": "https://localhost:8080/"
        },
        "id": "Eyv9PEw9Bwoa",
        "outputId": "4451b85e-8829-409f-95f7-6d55f9204e8f"
      },
      "outputs": [
        {
          "output_type": "stream",
          "name": "stdout",
          "text": [
            "Model: \"sequential\"\n",
            "_________________________________________________________________\n",
            " Layer (type)                Output Shape              Param #   \n",
            "=================================================================\n",
            " conv2d (Conv2D)             (None, 112, 112, 256)     6656      \n",
            "                                                                 \n",
            " leaky_re_lu (LeakyReLU)     (None, 112, 112, 256)     0         \n",
            "                                                                 \n",
            " max_pooling2d (MaxPooling2D  (None, 56, 56, 256)      0         \n",
            " )                                                               \n",
            "                                                                 \n",
            " conv2d_1 (Conv2D)           (None, 52, 52, 256)       1638656   \n",
            "                                                                 \n",
            " leaky_re_lu_1 (LeakyReLU)   (None, 52, 52, 256)       0         \n",
            "                                                                 \n",
            " max_pooling2d_1 (MaxPooling  (None, 26, 26, 256)      0         \n",
            " 2D)                                                             \n",
            "                                                                 \n",
            " conv2d_2 (Conv2D)           (None, 22, 22, 128)       819328    \n",
            "                                                                 \n",
            " leaky_re_lu_2 (LeakyReLU)   (None, 22, 22, 128)       0         \n",
            "                                                                 \n",
            " max_pooling2d_2 (MaxPooling  (None, 11, 11, 128)      0         \n",
            " 2D)                                                             \n",
            "                                                                 \n",
            " dropout (Dropout)           (None, 11, 11, 128)       0         \n",
            "                                                                 \n",
            " global_max_pooling2d (Globa  (None, 128)              0         \n",
            " lMaxPooling2D)                                                  \n",
            "                                                                 \n",
            " dense (Dense)               (None, 1024)              132096    \n",
            "                                                                 \n",
            " leaky_re_lu_3 (LeakyReLU)   (None, 1024)              0         \n",
            "                                                                 \n",
            " dense_1 (Dense)             (None, 18)                18450     \n",
            "                                                                 \n",
            "=================================================================\n",
            "Total params: 2,615,186\n",
            "Trainable params: 2,615,186\n",
            "Non-trainable params: 0\n",
            "_________________________________________________________________\n"
          ]
        }
      ],
      "source": [
        "model.summary()"
      ]
    },
    {
      "cell_type": "markdown",
      "metadata": {
        "id": "Ri0QKtH6PSPR"
      },
      "source": [
        "Train model with 100 epochs"
      ]
    },
    {
      "cell_type": "code",
      "execution_count": 8,
      "metadata": {
        "colab": {
          "base_uri": "https://localhost:8080/"
        },
        "id": "wrhH81MEBwqh",
        "outputId": "dbb96251-d61c-4ff3-d39d-225fb6ca077e"
      },
      "outputs": [
        {
          "output_type": "stream",
          "name": "stderr",
          "text": [
            "/usr/local/lib/python3.7/dist-packages/ipykernel_launcher.py:1: UserWarning: `Model.fit_generator` is deprecated and will be removed in a future version. Please use `Model.fit`, which supports generators.\n",
            "  \"\"\"Entry point for launching an IPython kernel.\n"
          ]
        },
        {
          "output_type": "stream",
          "name": "stdout",
          "text": [
            "Epoch 1/100\n",
            "126/126 [==============================] - 36s 168ms/step - loss: 2.8684 - accuracy: 0.0638 - val_loss: 2.5727 - val_accuracy: 0.1858\n",
            "Epoch 2/100\n",
            "126/126 [==============================] - 19s 152ms/step - loss: 1.6916 - accuracy: 0.4331 - val_loss: 0.6842 - val_accuracy: 0.7895\n",
            "Epoch 3/100\n",
            "126/126 [==============================] - 19s 152ms/step - loss: 0.3849 - accuracy: 0.8772 - val_loss: 0.0874 - val_accuracy: 0.9858\n",
            "Epoch 4/100\n",
            "126/126 [==============================] - 19s 153ms/step - loss: 0.1645 - accuracy: 0.9513 - val_loss: 0.1097 - val_accuracy: 0.9698\n",
            "Epoch 5/100\n",
            "126/126 [==============================] - 19s 150ms/step - loss: 0.1231 - accuracy: 0.9646 - val_loss: 0.0808 - val_accuracy: 0.9772\n",
            "Epoch 6/100\n",
            "126/126 [==============================] - 20s 155ms/step - loss: 0.0769 - accuracy: 0.9767 - val_loss: 0.0240 - val_accuracy: 0.9944\n",
            "Epoch 7/100\n",
            "126/126 [==============================] - 23s 184ms/step - loss: 0.0728 - accuracy: 0.9807 - val_loss: 0.0336 - val_accuracy: 0.9889\n",
            "Epoch 8/100\n",
            "126/126 [==============================] - 21s 163ms/step - loss: 0.0671 - accuracy: 0.9791 - val_loss: 0.0250 - val_accuracy: 0.9944\n",
            "Epoch 9/100\n",
            "126/126 [==============================] - 19s 150ms/step - loss: 0.0767 - accuracy: 0.9778 - val_loss: 0.0273 - val_accuracy: 0.9920\n",
            "Epoch 10/100\n",
            "126/126 [==============================] - 19s 150ms/step - loss: 0.0618 - accuracy: 0.9807 - val_loss: 0.0283 - val_accuracy: 0.9907\n",
            "Epoch 11/100\n",
            "126/126 [==============================] - 19s 151ms/step - loss: 0.0554 - accuracy: 0.9836 - val_loss: 0.0147 - val_accuracy: 0.9951\n",
            "Epoch 12/100\n",
            "126/126 [==============================] - 19s 153ms/step - loss: 0.0453 - accuracy: 0.9873 - val_loss: 0.0153 - val_accuracy: 0.9951\n",
            "Epoch 13/100\n",
            "126/126 [==============================] - 19s 151ms/step - loss: 0.0429 - accuracy: 0.9868 - val_loss: 0.0411 - val_accuracy: 0.9870\n",
            "Epoch 14/100\n",
            "126/126 [==============================] - 19s 152ms/step - loss: 0.0623 - accuracy: 0.9815 - val_loss: 0.0111 - val_accuracy: 0.9981\n",
            "Epoch 15/100\n",
            "126/126 [==============================] - 22s 172ms/step - loss: 0.0498 - accuracy: 0.9868 - val_loss: 0.0098 - val_accuracy: 0.9969\n",
            "Epoch 16/100\n",
            "126/126 [==============================] - 19s 153ms/step - loss: 0.0351 - accuracy: 0.9902 - val_loss: 0.0109 - val_accuracy: 0.9969\n",
            "Epoch 17/100\n",
            "126/126 [==============================] - 19s 152ms/step - loss: 0.0279 - accuracy: 0.9918 - val_loss: 0.0169 - val_accuracy: 0.9963\n",
            "Epoch 18/100\n",
            "126/126 [==============================] - 19s 152ms/step - loss: 0.0353 - accuracy: 0.9889 - val_loss: 0.0102 - val_accuracy: 0.9969\n",
            "Epoch 19/100\n",
            "126/126 [==============================] - 19s 152ms/step - loss: 0.0484 - accuracy: 0.9841 - val_loss: 0.0078 - val_accuracy: 0.9969\n",
            "Epoch 20/100\n",
            "126/126 [==============================] - 20s 155ms/step - loss: 0.0392 - accuracy: 0.9868 - val_loss: 0.0085 - val_accuracy: 0.9981\n",
            "Epoch 21/100\n",
            "126/126 [==============================] - 19s 154ms/step - loss: 0.0382 - accuracy: 0.9868 - val_loss: 0.0166 - val_accuracy: 0.9963\n",
            "Epoch 22/100\n",
            "126/126 [==============================] - 19s 152ms/step - loss: 0.0432 - accuracy: 0.9865 - val_loss: 0.0262 - val_accuracy: 0.9938\n",
            "Epoch 23/100\n",
            "126/126 [==============================] - 19s 152ms/step - loss: 0.0344 - accuracy: 0.9881 - val_loss: 0.0092 - val_accuracy: 0.9981\n",
            "Epoch 24/100\n",
            "126/126 [==============================] - 19s 152ms/step - loss: 0.0391 - accuracy: 0.9886 - val_loss: 0.0166 - val_accuracy: 0.9938\n",
            "Epoch 25/100\n",
            "126/126 [==============================] - 19s 152ms/step - loss: 0.0382 - accuracy: 0.9857 - val_loss: 0.0437 - val_accuracy: 0.9889\n",
            "Epoch 26/100\n",
            "126/126 [==============================] - 19s 151ms/step - loss: 0.0462 - accuracy: 0.9878 - val_loss: 0.0083 - val_accuracy: 0.9975\n",
            "Epoch 27/100\n",
            "126/126 [==============================] - 19s 151ms/step - loss: 0.0272 - accuracy: 0.9921 - val_loss: 0.0086 - val_accuracy: 0.9963\n",
            "Epoch 28/100\n",
            "126/126 [==============================] - 19s 152ms/step - loss: 0.0240 - accuracy: 0.9929 - val_loss: 0.0076 - val_accuracy: 0.9981\n",
            "Epoch 29/100\n",
            "126/126 [==============================] - 19s 151ms/step - loss: 0.0333 - accuracy: 0.9897 - val_loss: 0.0138 - val_accuracy: 0.9963\n",
            "Epoch 30/100\n",
            "126/126 [==============================] - 19s 151ms/step - loss: 0.0326 - accuracy: 0.9897 - val_loss: 0.0118 - val_accuracy: 0.9975\n",
            "Epoch 31/100\n",
            "126/126 [==============================] - 19s 151ms/step - loss: 0.0356 - accuracy: 0.9889 - val_loss: 0.0064 - val_accuracy: 0.9975\n",
            "Epoch 32/100\n",
            "126/126 [==============================] - 19s 150ms/step - loss: 0.0229 - accuracy: 0.9921 - val_loss: 0.0097 - val_accuracy: 0.9963\n",
            "Epoch 33/100\n",
            "126/126 [==============================] - 19s 151ms/step - loss: 0.0356 - accuracy: 0.9897 - val_loss: 0.0129 - val_accuracy: 0.9951\n",
            "Epoch 34/100\n",
            "126/126 [==============================] - 19s 150ms/step - loss: 0.0259 - accuracy: 0.9929 - val_loss: 0.0023 - val_accuracy: 1.0000\n",
            "Epoch 35/100\n",
            "126/126 [==============================] - 19s 150ms/step - loss: 0.0388 - accuracy: 0.9878 - val_loss: 0.0052 - val_accuracy: 0.9981\n",
            "Epoch 36/100\n",
            "126/126 [==============================] - 19s 151ms/step - loss: 0.0343 - accuracy: 0.9894 - val_loss: 0.0068 - val_accuracy: 0.9969\n",
            "Epoch 37/100\n",
            "126/126 [==============================] - 19s 151ms/step - loss: 0.0222 - accuracy: 0.9937 - val_loss: 0.0077 - val_accuracy: 0.9975\n",
            "Epoch 38/100\n",
            "126/126 [==============================] - 19s 150ms/step - loss: 0.0315 - accuracy: 0.9907 - val_loss: 0.0104 - val_accuracy: 0.9975\n",
            "Epoch 39/100\n",
            "126/126 [==============================] - 19s 150ms/step - loss: 0.0331 - accuracy: 0.9892 - val_loss: 0.0035 - val_accuracy: 0.9988\n",
            "Epoch 40/100\n",
            "126/126 [==============================] - 19s 148ms/step - loss: 0.0354 - accuracy: 0.9910 - val_loss: 0.0047 - val_accuracy: 0.9981\n",
            "Epoch 41/100\n",
            "126/126 [==============================] - 19s 149ms/step - loss: 0.0148 - accuracy: 0.9958 - val_loss: 0.0031 - val_accuracy: 0.9975\n",
            "Epoch 42/100\n",
            "126/126 [==============================] - 19s 149ms/step - loss: 0.0339 - accuracy: 0.9892 - val_loss: 0.0048 - val_accuracy: 0.9975\n",
            "Epoch 43/100\n",
            "126/126 [==============================] - 19s 150ms/step - loss: 0.0354 - accuracy: 0.9886 - val_loss: 0.0073 - val_accuracy: 0.9975\n",
            "Epoch 44/100\n",
            "126/126 [==============================] - 19s 150ms/step - loss: 0.0154 - accuracy: 0.9952 - val_loss: 0.0047 - val_accuracy: 0.9988\n",
            "Epoch 45/100\n",
            "126/126 [==============================] - 19s 150ms/step - loss: 0.0295 - accuracy: 0.9907 - val_loss: 0.0102 - val_accuracy: 0.9969\n",
            "Epoch 46/100\n",
            "126/126 [==============================] - 19s 151ms/step - loss: 0.0278 - accuracy: 0.9918 - val_loss: 0.0088 - val_accuracy: 0.9975\n",
            "Epoch 47/100\n",
            "126/126 [==============================] - 19s 151ms/step - loss: 0.0314 - accuracy: 0.9921 - val_loss: 0.0080 - val_accuracy: 0.9981\n",
            "Epoch 48/100\n",
            "126/126 [==============================] - 19s 149ms/step - loss: 0.0264 - accuracy: 0.9915 - val_loss: 0.0032 - val_accuracy: 0.9988\n",
            "Epoch 49/100\n",
            "126/126 [==============================] - 19s 149ms/step - loss: 0.0242 - accuracy: 0.9926 - val_loss: 0.0014 - val_accuracy: 1.0000\n",
            "Epoch 50/100\n",
            "126/126 [==============================] - 19s 150ms/step - loss: 0.0289 - accuracy: 0.9907 - val_loss: 0.0153 - val_accuracy: 0.9944\n",
            "Epoch 51/100\n",
            "126/126 [==============================] - 19s 149ms/step - loss: 0.0332 - accuracy: 0.9913 - val_loss: 0.0224 - val_accuracy: 0.9944\n",
            "Epoch 52/100\n",
            "126/126 [==============================] - 19s 150ms/step - loss: 0.0215 - accuracy: 0.9934 - val_loss: 0.0170 - val_accuracy: 0.9963\n",
            "Epoch 53/100\n",
            "126/126 [==============================] - 19s 150ms/step - loss: 0.0233 - accuracy: 0.9929 - val_loss: 0.0028 - val_accuracy: 0.9988\n",
            "Epoch 54/100\n",
            "126/126 [==============================] - 19s 151ms/step - loss: 0.0196 - accuracy: 0.9934 - val_loss: 0.0073 - val_accuracy: 0.9975\n",
            "Epoch 55/100\n",
            "126/126 [==============================] - 19s 151ms/step - loss: 0.0247 - accuracy: 0.9929 - val_loss: 0.0010 - val_accuracy: 0.9994\n",
            "Epoch 56/100\n",
            "126/126 [==============================] - 19s 148ms/step - loss: 0.0204 - accuracy: 0.9926 - val_loss: 0.0074 - val_accuracy: 0.9988\n",
            "Epoch 57/100\n",
            "126/126 [==============================] - 19s 148ms/step - loss: 0.0247 - accuracy: 0.9926 - val_loss: 0.0064 - val_accuracy: 0.9975\n",
            "Epoch 58/100\n",
            "126/126 [==============================] - 19s 148ms/step - loss: 0.0310 - accuracy: 0.9907 - val_loss: 0.0207 - val_accuracy: 0.9957\n",
            "Epoch 59/100\n",
            "126/126 [==============================] - 19s 148ms/step - loss: 0.0217 - accuracy: 0.9934 - val_loss: 0.0099 - val_accuracy: 0.9975\n",
            "Epoch 60/100\n",
            "126/126 [==============================] - 19s 148ms/step - loss: 0.0140 - accuracy: 0.9942 - val_loss: 0.0079 - val_accuracy: 0.9981\n",
            "Epoch 61/100\n",
            "126/126 [==============================] - 19s 147ms/step - loss: 0.0317 - accuracy: 0.9907 - val_loss: 0.0099 - val_accuracy: 0.9963\n",
            "Epoch 62/100\n",
            "126/126 [==============================] - 19s 148ms/step - loss: 0.0170 - accuracy: 0.9947 - val_loss: 0.0041 - val_accuracy: 0.9988\n",
            "Epoch 63/100\n",
            "126/126 [==============================] - 19s 148ms/step - loss: 0.0229 - accuracy: 0.9934 - val_loss: 0.0025 - val_accuracy: 0.9994\n",
            "Epoch 64/100\n",
            "126/126 [==============================] - 19s 147ms/step - loss: 0.0133 - accuracy: 0.9966 - val_loss: 0.0040 - val_accuracy: 0.9988\n",
            "Epoch 65/100\n",
            "126/126 [==============================] - 19s 148ms/step - loss: 0.0206 - accuracy: 0.9926 - val_loss: 0.0048 - val_accuracy: 0.9988\n",
            "Epoch 66/100\n",
            "126/126 [==============================] - 19s 147ms/step - loss: 0.0320 - accuracy: 0.9913 - val_loss: 0.0350 - val_accuracy: 0.9914\n",
            "Epoch 67/100\n",
            "126/126 [==============================] - 19s 148ms/step - loss: 0.0297 - accuracy: 0.9913 - val_loss: 0.0058 - val_accuracy: 0.9988\n",
            "Epoch 68/100\n",
            "126/126 [==============================] - 19s 147ms/step - loss: 0.0258 - accuracy: 0.9918 - val_loss: 0.0049 - val_accuracy: 0.9981\n",
            "Epoch 69/100\n",
            "126/126 [==============================] - 19s 147ms/step - loss: 0.0376 - accuracy: 0.9873 - val_loss: 0.0143 - val_accuracy: 0.9957\n",
            "Epoch 70/100\n",
            "126/126 [==============================] - 19s 148ms/step - loss: 0.0154 - accuracy: 0.9942 - val_loss: 0.0019 - val_accuracy: 0.9994\n",
            "Epoch 71/100\n",
            "126/126 [==============================] - 19s 148ms/step - loss: 0.0286 - accuracy: 0.9913 - val_loss: 0.0028 - val_accuracy: 0.9981\n",
            "Epoch 72/100\n",
            "126/126 [==============================] - 19s 148ms/step - loss: 0.0323 - accuracy: 0.9905 - val_loss: 0.0070 - val_accuracy: 0.9988\n",
            "Epoch 73/100\n",
            "126/126 [==============================] - 19s 148ms/step - loss: 0.0166 - accuracy: 0.9950 - val_loss: 0.0031 - val_accuracy: 0.9988\n",
            "Epoch 74/100\n",
            "126/126 [==============================] - 19s 147ms/step - loss: 0.0111 - accuracy: 0.9968 - val_loss: 0.0020 - val_accuracy: 0.9994\n",
            "Epoch 75/100\n",
            "126/126 [==============================] - 19s 147ms/step - loss: 0.0124 - accuracy: 0.9963 - val_loss: 0.0048 - val_accuracy: 0.9981\n",
            "Epoch 76/100\n",
            "126/126 [==============================] - 19s 148ms/step - loss: 0.0147 - accuracy: 0.9950 - val_loss: 0.0049 - val_accuracy: 0.9975\n",
            "Epoch 77/100\n",
            "126/126 [==============================] - 19s 147ms/step - loss: 0.0228 - accuracy: 0.9929 - val_loss: 0.0090 - val_accuracy: 0.9975\n",
            "Epoch 78/100\n",
            "126/126 [==============================] - 19s 147ms/step - loss: 0.0122 - accuracy: 0.9960 - val_loss: 0.0171 - val_accuracy: 0.9969\n",
            "Epoch 79/100\n",
            "126/126 [==============================] - 19s 147ms/step - loss: 0.0200 - accuracy: 0.9937 - val_loss: 0.0058 - val_accuracy: 0.9981\n",
            "Epoch 80/100\n",
            "126/126 [==============================] - 19s 147ms/step - loss: 0.0272 - accuracy: 0.9913 - val_loss: 0.0086 - val_accuracy: 0.9963\n",
            "Epoch 81/100\n",
            "126/126 [==============================] - 18s 147ms/step - loss: 0.0213 - accuracy: 0.9937 - val_loss: 0.0044 - val_accuracy: 0.9981\n",
            "Epoch 82/100\n",
            "126/126 [==============================] - 19s 146ms/step - loss: 0.0165 - accuracy: 0.9952 - val_loss: 0.0073 - val_accuracy: 0.9975\n",
            "Epoch 83/100\n",
            "126/126 [==============================] - 18s 146ms/step - loss: 0.0229 - accuracy: 0.9931 - val_loss: 0.0051 - val_accuracy: 0.9981\n",
            "Epoch 84/100\n",
            "126/126 [==============================] - 19s 147ms/step - loss: 0.0223 - accuracy: 0.9929 - val_loss: 0.0026 - val_accuracy: 0.9988\n",
            "Epoch 85/100\n",
            "126/126 [==============================] - 19s 147ms/step - loss: 0.0226 - accuracy: 0.9937 - val_loss: 0.0067 - val_accuracy: 0.9975\n",
            "Epoch 86/100\n",
            "126/126 [==============================] - 19s 147ms/step - loss: 0.0247 - accuracy: 0.9921 - val_loss: 0.0039 - val_accuracy: 0.9994\n",
            "Epoch 87/100\n",
            "126/126 [==============================] - 19s 148ms/step - loss: 0.0194 - accuracy: 0.9944 - val_loss: 0.0050 - val_accuracy: 0.9981\n",
            "Epoch 88/100\n",
            "126/126 [==============================] - 19s 147ms/step - loss: 0.0182 - accuracy: 0.9942 - val_loss: 0.0056 - val_accuracy: 0.9975\n",
            "Epoch 89/100\n",
            "126/126 [==============================] - 19s 147ms/step - loss: 0.0290 - accuracy: 0.9910 - val_loss: 0.0012 - val_accuracy: 1.0000\n",
            "Epoch 90/100\n",
            "126/126 [==============================] - 18s 147ms/step - loss: 0.0211 - accuracy: 0.9944 - val_loss: 0.0041 - val_accuracy: 0.9988\n",
            "Epoch 91/100\n",
            "126/126 [==============================] - 19s 147ms/step - loss: 0.0093 - accuracy: 0.9968 - val_loss: 0.0132 - val_accuracy: 0.9969\n",
            "Epoch 92/100\n",
            "126/126 [==============================] - 19s 148ms/step - loss: 0.0222 - accuracy: 0.9937 - val_loss: 0.0041 - val_accuracy: 0.9981\n",
            "Epoch 93/100\n",
            "126/126 [==============================] - 19s 148ms/step - loss: 0.0150 - accuracy: 0.9950 - val_loss: 0.0038 - val_accuracy: 0.9981\n",
            "Epoch 94/100\n",
            "126/126 [==============================] - 19s 147ms/step - loss: 0.0144 - accuracy: 0.9955 - val_loss: 0.0085 - val_accuracy: 0.9969\n",
            "Epoch 95/100\n",
            "126/126 [==============================] - 19s 147ms/step - loss: 0.0179 - accuracy: 0.9950 - val_loss: 0.0044 - val_accuracy: 0.9988\n",
            "Epoch 96/100\n",
            "126/126 [==============================] - 19s 147ms/step - loss: 0.0179 - accuracy: 0.9937 - val_loss: 0.0051 - val_accuracy: 0.9988\n",
            "Epoch 97/100\n",
            "126/126 [==============================] - 19s 147ms/step - loss: 0.0140 - accuracy: 0.9950 - val_loss: 0.0146 - val_accuracy: 0.9975\n",
            "Epoch 98/100\n",
            "126/126 [==============================] - 19s 148ms/step - loss: 0.0154 - accuracy: 0.9944 - val_loss: 0.0079 - val_accuracy: 0.9988\n",
            "Epoch 99/100\n",
            "126/126 [==============================] - 19s 147ms/step - loss: 0.0099 - accuracy: 0.9963 - val_loss: 0.0052 - val_accuracy: 0.9988\n",
            "Epoch 100/100\n",
            "126/126 [==============================] - 19s 147ms/step - loss: 0.0179 - accuracy: 0.9944 - val_loss: 0.0032 - val_accuracy: 0.9988\n"
          ]
        }
      ],
      "source": [
        "history = model.fit_generator(generator = train_data, validation_data = validation_data, epochs=100)"
      ]
    },
    {
      "cell_type": "markdown",
      "metadata": {
        "id": "UPo0ehcpPV0m"
      },
      "source": [
        "Plot the chart for accuracy and loss on both training and validation"
      ]
    },
    {
      "cell_type": "code",
      "execution_count": 9,
      "metadata": {
        "colab": {
          "base_uri": "https://localhost:8080/",
          "height": 545
        },
        "id": "84mk9Br2Bws7",
        "outputId": "84dc3948-faa1-4986-9223-724c284345a6"
      },
      "outputs": [
        {
          "output_type": "display_data",
          "data": {
            "text/plain": [
              "<Figure size 432x288 with 1 Axes>"
            ],
            "image/png": "[encoded data removed]"
          },
          "metadata": {
            "needs_background": "light"
          }
        },
        {
          "output_type": "display_data",
          "data": {
            "text/plain": [
              "<Figure size 432x288 with 1 Axes>"
            ],
            "image/png": "[encoded data removed]"
          },
          "metadata": {
            "needs_background": "light"
          }
        }
      ],
      "source": [
        "acc = history.history['accuracy']\n",
        "val_acc = history.history['val_accuracy']\n",
        "loss = history.history['loss']\n",
        "val_loss = history.history['val_loss']\n",
        "\n",
        "epochs = range(len(acc))\n",
        "\n",
        "plt.plot(epochs, acc, 'r', label='Training accuracy')\n",
        "plt.plot(epochs, val_acc, 'b', label='Validation accuracy')\n",
        "plt.title('Training and validation accuracy')\n",
        "plt.legend()\n",
        "plt.figure()\n",
        "\n",
        "plt.plot(epochs, loss, 'r', label='Training Loss')\n",
        "plt.plot(epochs, val_loss, 'b', label='Validation Loss')\n",
        "plt.title('Training and validation loss')\n",
        "plt.legend()\n",
        "\n",
        "plt.show()"
      ]
    },
    {
      "cell_type": "markdown",
      "source": [
        "Plot metrics"
      ],
      "metadata": {
        "id": "IyusZerVUkKC"
      }
    },
    {
      "cell_type": "code",
      "source": [
        "plt.plot(history.history['accuracy'])\n",
        "plt.show()"
      ],
      "metadata": {
        "colab": {
          "base_uri": "https://localhost:8080/",
          "height": 265
        },
        "id": "hhbeg15uThNr",
        "outputId": "5b3dcd65-9e4f-4cba-e6a7-01def59ed91a"
      },
      "execution_count": 10,
      "outputs": [
        {
          "output_type": "display_data",
          "data": {
            "text/plain": [
              "<Figure size 432x288 with 1 Axes>"
            ],
            "image/png": "[encoded data removed]"
          },
          "metadata": {
            "needs_background": "light"
          }
        }
      ]
    }
  ],
  "metadata": {
    "accelerator": "GPU",
    "colab": {
      "collapsed_sections": [],
      "name": "Copy of Sunda Aksara Classification.ipynb",
      "provenance": []
    },
    "kernelspec": {
      "display_name": "Python 3",
      "name": "python3"
    },
    "language_info": {
      "name": "python"
    }
  },
  "nbformat": 4,
  "nbformat_minor": 0
}