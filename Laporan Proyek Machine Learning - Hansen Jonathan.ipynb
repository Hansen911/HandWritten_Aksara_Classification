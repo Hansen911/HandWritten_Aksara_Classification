{
  "cells": [
    {
      "cell_type": "markdown",
      "source": [
        "# Sunda Aksara Classification"
      ],
      "metadata": {
        "id": "GXDFQODKBFdc"
      }
    },
    {
      "cell_type": "code",
      "source": [
        "# Import raw data into colab\n",
        "!git clone https://github.com/ridhomujizat/AksaraSundaCNN/"
      ],
      "metadata": {
        "colab": {
          "base_uri": "https://localhost:8080/"
        },
        "id": "e1mqCZBgN-QH",
        "outputId": "e3cee7e6-1c56-49a8-92c8-10b0e856e7b3"
      },
      "execution_count": null,
      "outputs": [
        {
          "output_type": "stream",
          "name": "stdout",
          "text": [
            "Cloning into 'AksaraSundaCNN'...\n",
            "remote: Enumerating objects: 5780, done.\u001b[K\n",
            "remote: Counting objects: 100% (13/13), done.\u001b[K\n",
            "remote: Compressing objects: 100% (12/12), done.\u001b[K\n",
            "remote: Total 5780 (delta 3), reused 0 (delta 0), pack-reused 5767\u001b[K\n",
            "Receiving objects: 100% (5780/5780), 145.21 MiB | 14.90 MiB/s, done.\n",
            "Resolving deltas: 100% (299/299), done.\n",
            "Checking out files: 100% (11371/11371), done.\n"
          ]
        }
      ]
    },
    {
      "cell_type": "code",
      "source": [
        "# Import package that we need\n",
        "import os\n",
        "import random\n",
        "import tensorflow as tf\n",
        "import matplotlib.pyplot as plt\n",
        "from tensorflow.keras.preprocessing.image import ImageDataGenerator, array_to_img"
      ],
      "metadata": {
        "id": "3hLZzBcTO_3v"
      },
      "execution_count": null,
      "outputs": []
    },
    {
      "cell_type": "code",
      "source": [
        "# Define root directory \n",
        "root_path = '/content/AksaraSundaCNN'\n",
        "\n",
        "root_path_train = os.path.join(root_path, 'train')\n",
        "root_path_test = os.path.join(root_path, 'test')"
      ],
      "metadata": {
        "id": "l3LPfHBmO6tC"
      },
      "execution_count": null,
      "outputs": []
    },
    {
      "cell_type": "code",
      "execution_count": null,
      "metadata": {
        "colab": {
          "base_uri": "https://localhost:8080/"
        },
        "id": "dFCkhI6GBdaN",
        "outputId": "ea887e67-4f4f-4774-af3a-685fc8b54f42"
      },
      "outputs": [
        {
          "output_type": "stream",
          "name": "stdout",
          "text": [
            "Found 3780 images belonging to 18 classes.\n",
            "Found 1620 images belonging to 18 classes.\n"
          ]
        }
      ],
      "source": [
        "# Do the image augmentation and rescale image\n",
        "train_datagen = ImageDataGenerator(rescale = 1./255,\n",
        "                                   width_shift_range = 0.2, height_shift_range = 0.2,\n",
        "                                   shear_range = 0.2, zoom_range = 0.2, fill_mode='nearest')\n",
        "\n",
        "train_data = train_datagen.flow_from_directory(\n",
        "    directory=root_path_train,\n",
        "    color_mode=\"grayscale\",\n",
        "    batch_size=30)\n",
        "\n",
        "validation_datagen = ImageDataGenerator(rescale = 1./255)\n",
        "\n",
        "validation_data = validation_datagen.flow_from_directory(\n",
        "    directory=root_path_test,\n",
        "    target_size=(112,112),\n",
        "    color_mode=\"grayscale\",\n",
        "    batch_size=30)"
      ]
    },
    {
      "cell_type": "code",
      "execution_count": null,
      "metadata": {
        "id": "WZRk9bYOBwmE"
      },
      "outputs": [],
      "source": [
        "# Define the model\n",
        "from tensorflow.keras.optimizers import RMSprop\n",
        "from tensorflow import keras\n",
        "model = tf.keras.models.Sequential([ \n",
        "      tf.keras.layers.Conv2D(256, (5,5), activation = 'relu', padding = 'same', input_shape=(112,112,1)),\n",
        "      tf.keras.layers.LeakyReLU(alpha=0.2),\n",
        "      tf.keras.layers.MaxPooling2D(2,2),\n",
        "      tf.keras.layers.Conv2D(256, (5,5)),\n",
        "      tf.keras.layers.LeakyReLU(alpha=0.3),\n",
        "      tf.keras.layers.MaxPooling2D(2,2),\n",
        "      tf.keras.layers.Conv2D(128, (5,5)),\n",
        "      tf.keras.layers.LeakyReLU(alpha=0.3),\n",
        "      tf.keras.layers.MaxPooling2D(2,2),\n",
        "      tf.keras.layers.Dropout(0.2),\n",
        "      tf.keras.layers.GlobalMaxPool2D(),\n",
        "      tf.keras.layers.Dense(1024),\n",
        "      tf.keras.layers.LeakyReLU(alpha=0.2),\n",
        "      tf.keras.layers.Dense(18, activation = 'softmax')\n",
        "  ])\n",
        "\n",
        "\n",
        "model.compile(optimizer=keras.optimizers.Adam(learning_rate=0.0005),\n",
        "                loss = tf.keras.losses.CategoricalCrossentropy(),\n",
        "                metrics = ['accuracy'])"
      ]
    },
    {
      "cell_type": "code",
      "execution_count": null,
      "metadata": {
        "colab": {
          "base_uri": "https://localhost:8080/"
        },
        "id": "Eyv9PEw9Bwoa",
        "outputId": "79bab535-de0a-492f-a6b9-830b2241ccd9"
      },
      "outputs": [
        {
          "output_type": "stream",
          "name": "stdout",
          "text": [
            "Model: \"sequential\"\n",
            "_________________________________________________________________\n",
            " Layer (type)                Output Shape              Param #   \n",
            "=================================================================\n",
            " conv2d (Conv2D)             (None, 112, 112, 256)     6656      \n",
            "                                                                 \n",
            " leaky_re_lu (LeakyReLU)     (None, 112, 112, 256)     0         \n",
            "                                                                 \n",
            " max_pooling2d (MaxPooling2D  (None, 56, 56, 256)      0         \n",
            " )                                                               \n",
            "                                                                 \n",
            " conv2d_1 (Conv2D)           (None, 52, 52, 256)       1638656   \n",
            "                                                                 \n",
            " leaky_re_lu_1 (LeakyReLU)   (None, 52, 52, 256)       0         \n",
            "                                                                 \n",
            " max_pooling2d_1 (MaxPooling  (None, 26, 26, 256)      0         \n",
            " 2D)                                                             \n",
            "                                                                 \n",
            " conv2d_2 (Conv2D)           (None, 22, 22, 128)       819328    \n",
            "                                                                 \n",
            " leaky_re_lu_2 (LeakyReLU)   (None, 22, 22, 128)       0         \n",
            "                                                                 \n",
            " max_pooling2d_2 (MaxPooling  (None, 11, 11, 128)      0         \n",
            " 2D)                                                             \n",
            "                                                                 \n",
            " dropout (Dropout)           (None, 11, 11, 128)       0         \n",
            "                                                                 \n",
            " global_max_pooling2d (Globa  (None, 128)              0         \n",
            " lMaxPooling2D)                                                  \n",
            "                                                                 \n",
            " dense (Dense)               (None, 1024)              132096    \n",
            "                                                                 \n",
            " leaky_re_lu_3 (LeakyReLU)   (None, 1024)              0         \n",
            "                                                                 \n",
            " dense_1 (Dense)             (None, 18)                18450     \n",
            "                                                                 \n",
            "=================================================================\n",
            "Total params: 2,615,186\n",
            "Trainable params: 2,615,186\n",
            "Non-trainable params: 0\n",
            "_________________________________________________________________\n"
          ]
        }
      ],
      "source": [
        "# Show model summary\n",
        "model.summary()"
      ]
    },
    {
      "cell_type": "code",
      "execution_count": null,
      "metadata": {
        "colab": {
          "base_uri": "https://localhost:8080/"
        },
        "id": "wrhH81MEBwqh",
        "outputId": "4ab5b49d-4a9a-4f36-96db-a29d42ab7c5a"
      },
      "outputs": [
        {
          "metadata": {
            "tags": null
          },
          "name": "stderr",
          "output_type": "stream",
          "text": [
            "/usr/local/lib/python3.7/dist-packages/ipykernel_launcher.py:1: UserWarning: `Model.fit_generator` is deprecated and will be removed in a future version. Please use `Model.fit`, which supports generators.\n",
            "  \"\"\"Entry point for launching an IPython kernel.\n"
          ]
        },
        {
          "output_type": "stream",
          "name": "stdout",
          "text": [
            "Epoch 1/100\n",
            "126/126 [==============================] - 83s 513ms/step - loss: 2.8903 - accuracy: 0.0574 - val_loss: 2.8234 - val_accuracy: 0.0586\n",
            "Epoch 2/100\n",
            "126/126 [==============================] - 70s 552ms/step - loss: 2.1297 - accuracy: 0.2603 - val_loss: 2.0948 - val_accuracy: 0.2914\n",
            "Epoch 3/100\n",
            "126/126 [==============================] - 66s 521ms/step - loss: 1.2396 - accuracy: 0.5717 - val_loss: 1.9216 - val_accuracy: 0.3728\n",
            "Epoch 4/100\n",
            "126/126 [==============================] - 65s 518ms/step - loss: 0.7247 - accuracy: 0.7392 - val_loss: 1.5714 - val_accuracy: 0.4938\n",
            "Epoch 5/100\n",
            "126/126 [==============================] - 66s 519ms/step - loss: 0.4569 - accuracy: 0.8389 - val_loss: 1.4754 - val_accuracy: 0.5290\n",
            "Epoch 6/100\n",
            "126/126 [==============================] - 65s 519ms/step - loss: 0.3317 - accuracy: 0.8831 - val_loss: 1.4360 - val_accuracy: 0.5562\n",
            "Epoch 7/100\n",
            "126/126 [==============================] - 65s 518ms/step - loss: 0.3109 - accuracy: 0.8918 - val_loss: 1.1263 - val_accuracy: 0.6302\n",
            "Epoch 8/100\n",
            "126/126 [==============================] - 65s 518ms/step - loss: 0.2529 - accuracy: 0.9106 - val_loss: 1.1109 - val_accuracy: 0.6370\n",
            "Epoch 9/100\n",
            "126/126 [==============================] - 65s 518ms/step - loss: 0.2289 - accuracy: 0.9230 - val_loss: 1.3581 - val_accuracy: 0.5778\n",
            "Epoch 10/100\n",
            "126/126 [==============================] - 65s 519ms/step - loss: 0.2040 - accuracy: 0.9272 - val_loss: 1.2850 - val_accuracy: 0.6031\n",
            "Epoch 11/100\n",
            "126/126 [==============================] - 65s 518ms/step - loss: 0.1871 - accuracy: 0.9328 - val_loss: 1.2718 - val_accuracy: 0.6142\n",
            "Epoch 12/100\n",
            "126/126 [==============================] - 65s 517ms/step - loss: 0.1642 - accuracy: 0.9476 - val_loss: 1.3710 - val_accuracy: 0.5790\n",
            "Epoch 13/100\n",
            "126/126 [==============================] - 65s 518ms/step - loss: 0.1594 - accuracy: 0.9458 - val_loss: 1.4208 - val_accuracy: 0.5988\n",
            "Epoch 14/100\n",
            "126/126 [==============================] - 65s 518ms/step - loss: 0.1508 - accuracy: 0.9503 - val_loss: 1.4306 - val_accuracy: 0.6019\n",
            "Epoch 15/100\n",
            "126/126 [==============================] - 65s 519ms/step - loss: 0.1558 - accuracy: 0.9468 - val_loss: 1.3988 - val_accuracy: 0.5969\n",
            "Epoch 16/100\n",
            "126/126 [==============================] - 65s 518ms/step - loss: 0.1511 - accuracy: 0.9484 - val_loss: 1.2433 - val_accuracy: 0.6123\n",
            "Epoch 17/100\n",
            "126/126 [==============================] - 65s 519ms/step - loss: 0.1246 - accuracy: 0.9582 - val_loss: 1.6035 - val_accuracy: 0.5673\n",
            "Epoch 18/100\n",
            "126/126 [==============================] - 65s 518ms/step - loss: 0.1214 - accuracy: 0.9540 - val_loss: 1.1989 - val_accuracy: 0.6599\n",
            "Epoch 19/100\n",
            "126/126 [==============================] - 65s 518ms/step - loss: 0.1061 - accuracy: 0.9659 - val_loss: 1.1385 - val_accuracy: 0.6710\n",
            "Epoch 20/100\n",
            "126/126 [==============================] - 65s 518ms/step - loss: 0.1226 - accuracy: 0.9606 - val_loss: 1.5909 - val_accuracy: 0.5747\n",
            "Epoch 21/100\n",
            "126/126 [==============================] - 65s 518ms/step - loss: 0.1061 - accuracy: 0.9646 - val_loss: 1.4290 - val_accuracy: 0.5852\n",
            "Epoch 22/100\n",
            "126/126 [==============================] - 65s 518ms/step - loss: 0.0932 - accuracy: 0.9659 - val_loss: 1.3388 - val_accuracy: 0.5932\n",
            "Epoch 23/100\n",
            "126/126 [==============================] - 65s 518ms/step - loss: 0.1139 - accuracy: 0.9603 - val_loss: 1.6786 - val_accuracy: 0.5796\n",
            "Epoch 24/100\n",
            "126/126 [==============================] - 65s 518ms/step - loss: 0.0873 - accuracy: 0.9706 - val_loss: 1.6127 - val_accuracy: 0.5741\n",
            "Epoch 25/100\n",
            "126/126 [==============================] - 66s 519ms/step - loss: 0.0820 - accuracy: 0.9714 - val_loss: 1.7720 - val_accuracy: 0.5383\n",
            "Epoch 26/100\n",
            "126/126 [==============================] - 65s 518ms/step - loss: 0.0885 - accuracy: 0.9704 - val_loss: 2.0193 - val_accuracy: 0.5173\n",
            "Epoch 27/100\n",
            "126/126 [==============================] - 65s 518ms/step - loss: 0.0937 - accuracy: 0.9696 - val_loss: 1.2539 - val_accuracy: 0.6420\n",
            "Epoch 28/100\n",
            "126/126 [==============================] - 65s 518ms/step - loss: 0.0765 - accuracy: 0.9754 - val_loss: 1.5740 - val_accuracy: 0.5963\n",
            "Epoch 29/100\n",
            "126/126 [==============================] - 65s 518ms/step - loss: 0.0827 - accuracy: 0.9717 - val_loss: 1.5778 - val_accuracy: 0.5753\n",
            "Epoch 30/100\n",
            "126/126 [==============================] - 65s 518ms/step - loss: 0.0775 - accuracy: 0.9722 - val_loss: 1.4167 - val_accuracy: 0.6154\n",
            "Epoch 31/100\n",
            "126/126 [==============================] - 65s 518ms/step - loss: 0.0937 - accuracy: 0.9677 - val_loss: 1.6585 - val_accuracy: 0.5895\n",
            "Epoch 32/100\n",
            "126/126 [==============================] - 65s 518ms/step - loss: 0.0962 - accuracy: 0.9693 - val_loss: 1.3875 - val_accuracy: 0.6290\n",
            "Epoch 33/100\n",
            "126/126 [==============================] - 65s 517ms/step - loss: 0.0722 - accuracy: 0.9741 - val_loss: 1.3772 - val_accuracy: 0.6216\n",
            "Epoch 34/100\n",
            "126/126 [==============================] - 65s 517ms/step - loss: 0.0776 - accuracy: 0.9712 - val_loss: 1.6666 - val_accuracy: 0.6142\n",
            "Epoch 35/100\n",
            "126/126 [==============================] - 66s 522ms/step - loss: 0.0778 - accuracy: 0.9725 - val_loss: 1.8619 - val_accuracy: 0.5469\n",
            "Epoch 36/100\n",
            "126/126 [==============================] - 65s 516ms/step - loss: 0.0749 - accuracy: 0.9733 - val_loss: 1.5736 - val_accuracy: 0.6438\n",
            "Epoch 37/100\n",
            "126/126 [==============================] - 65s 517ms/step - loss: 0.0841 - accuracy: 0.9725 - val_loss: 1.3516 - val_accuracy: 0.6340\n",
            "Epoch 38/100\n",
            "126/126 [==============================] - 65s 517ms/step - loss: 0.0509 - accuracy: 0.9823 - val_loss: 1.2743 - val_accuracy: 0.6321\n",
            "Epoch 39/100\n",
            "126/126 [==============================] - 65s 517ms/step - loss: 0.0727 - accuracy: 0.9746 - val_loss: 2.2607 - val_accuracy: 0.5488\n",
            "Epoch 40/100\n",
            "126/126 [==============================] - 65s 517ms/step - loss: 0.0629 - accuracy: 0.9765 - val_loss: 1.5338 - val_accuracy: 0.6617\n",
            "Epoch 41/100\n",
            "126/126 [==============================] - 65s 518ms/step - loss: 0.0761 - accuracy: 0.9717 - val_loss: 1.3327 - val_accuracy: 0.6778\n",
            "Epoch 42/100\n",
            "126/126 [==============================] - 65s 518ms/step - loss: 0.0599 - accuracy: 0.9833 - val_loss: 1.6593 - val_accuracy: 0.6191\n",
            "Epoch 43/100\n",
            "126/126 [==============================] - 65s 518ms/step - loss: 0.0577 - accuracy: 0.9815 - val_loss: 1.4615 - val_accuracy: 0.5796\n",
            "Epoch 44/100\n",
            "126/126 [==============================] - 65s 518ms/step - loss: 0.0626 - accuracy: 0.9796 - val_loss: 1.4557 - val_accuracy: 0.6414\n",
            "Epoch 45/100\n",
            "126/126 [==============================] - 65s 518ms/step - loss: 0.0610 - accuracy: 0.9804 - val_loss: 1.7461 - val_accuracy: 0.5981\n",
            "Epoch 46/100\n",
            "126/126 [==============================] - 65s 519ms/step - loss: 0.0518 - accuracy: 0.9828 - val_loss: 1.7942 - val_accuracy: 0.5667\n",
            "Epoch 47/100\n",
            "126/126 [==============================] - 65s 518ms/step - loss: 0.0717 - accuracy: 0.9728 - val_loss: 1.5421 - val_accuracy: 0.5883\n",
            "Epoch 48/100\n",
            "126/126 [==============================] - 66s 519ms/step - loss: 0.0594 - accuracy: 0.9796 - val_loss: 2.0568 - val_accuracy: 0.5469\n",
            "Epoch 49/100\n",
            "126/126 [==============================] - 65s 519ms/step - loss: 0.0605 - accuracy: 0.9804 - val_loss: 1.4795 - val_accuracy: 0.6500\n",
            "Epoch 50/100\n",
            "126/126 [==============================] - 66s 519ms/step - loss: 0.0483 - accuracy: 0.9831 - val_loss: 1.7338 - val_accuracy: 0.6216\n",
            "Epoch 51/100\n",
            "126/126 [==============================] - 65s 518ms/step - loss: 0.0542 - accuracy: 0.9825 - val_loss: 1.3545 - val_accuracy: 0.6827\n",
            "Epoch 52/100\n",
            "126/126 [==============================] - 65s 518ms/step - loss: 0.0591 - accuracy: 0.9810 - val_loss: 1.2168 - val_accuracy: 0.6846\n",
            "Epoch 53/100\n",
            "126/126 [==============================] - 65s 518ms/step - loss: 0.0517 - accuracy: 0.9820 - val_loss: 1.3877 - val_accuracy: 0.6988\n",
            "Epoch 54/100\n",
            "126/126 [==============================] - 65s 518ms/step - loss: 0.0623 - accuracy: 0.9791 - val_loss: 1.5286 - val_accuracy: 0.6599\n",
            "Epoch 55/100\n",
            "126/126 [==============================] - 65s 518ms/step - loss: 0.0572 - accuracy: 0.9825 - val_loss: 1.4514 - val_accuracy: 0.6667\n",
            "Epoch 56/100\n",
            "126/126 [==============================] - 65s 518ms/step - loss: 0.0634 - accuracy: 0.9794 - val_loss: 1.7323 - val_accuracy: 0.6296\n",
            "Epoch 57/100\n",
            "126/126 [==============================] - 65s 517ms/step - loss: 0.0489 - accuracy: 0.9836 - val_loss: 1.7532 - val_accuracy: 0.6167\n",
            "Epoch 58/100\n",
            "126/126 [==============================] - 65s 517ms/step - loss: 0.0500 - accuracy: 0.9820 - val_loss: 1.3933 - val_accuracy: 0.6833\n",
            "Epoch 59/100\n",
            "126/126 [==============================] - 65s 516ms/step - loss: 0.0391 - accuracy: 0.9860 - val_loss: 1.5850 - val_accuracy: 0.6698\n",
            "Epoch 60/100\n",
            "126/126 [==============================] - 65s 516ms/step - loss: 0.0590 - accuracy: 0.9802 - val_loss: 1.3316 - val_accuracy: 0.6759\n",
            "Epoch 61/100\n",
            "126/126 [==============================] - 65s 515ms/step - loss: 0.0532 - accuracy: 0.9807 - val_loss: 1.6774 - val_accuracy: 0.6877\n",
            "Epoch 62/100\n",
            "126/126 [==============================] - 65s 514ms/step - loss: 0.0550 - accuracy: 0.9812 - val_loss: 1.7140 - val_accuracy: 0.6296\n",
            "Epoch 63/100\n",
            "126/126 [==============================] - 65s 514ms/step - loss: 0.0569 - accuracy: 0.9815 - val_loss: 2.1110 - val_accuracy: 0.5667\n",
            "Epoch 64/100\n",
            "126/126 [==============================] - 65s 513ms/step - loss: 0.0601 - accuracy: 0.9802 - val_loss: 2.0443 - val_accuracy: 0.6025\n",
            "Epoch 65/100\n",
            "126/126 [==============================] - 65s 514ms/step - loss: 0.0491 - accuracy: 0.9865 - val_loss: 1.9447 - val_accuracy: 0.6333\n",
            "Epoch 66/100\n",
            "126/126 [==============================] - 65s 513ms/step - loss: 0.0541 - accuracy: 0.9825 - val_loss: 1.5498 - val_accuracy: 0.6623\n",
            "Epoch 67/100\n",
            "126/126 [==============================] - 65s 513ms/step - loss: 0.0417 - accuracy: 0.9868 - val_loss: 1.6206 - val_accuracy: 0.6710\n",
            "Epoch 68/100\n",
            "126/126 [==============================] - 65s 513ms/step - loss: 0.0530 - accuracy: 0.9862 - val_loss: 1.5617 - val_accuracy: 0.6296\n",
            "Epoch 69/100\n",
            "126/126 [==============================] - 65s 514ms/step - loss: 0.0357 - accuracy: 0.9881 - val_loss: 1.2672 - val_accuracy: 0.7086\n",
            "Epoch 70/100\n",
            "126/126 [==============================] - 65s 514ms/step - loss: 0.0509 - accuracy: 0.9825 - val_loss: 1.7810 - val_accuracy: 0.6117\n",
            "Epoch 71/100\n",
            "126/126 [==============================] - 65s 514ms/step - loss: 0.0457 - accuracy: 0.9852 - val_loss: 1.5757 - val_accuracy: 0.6488\n",
            "Epoch 72/100\n",
            "126/126 [==============================] - 65s 513ms/step - loss: 0.0392 - accuracy: 0.9862 - val_loss: 1.5516 - val_accuracy: 0.6259\n",
            "Epoch 73/100\n",
            "126/126 [==============================] - 65s 513ms/step - loss: 0.0429 - accuracy: 0.9865 - val_loss: 2.4532 - val_accuracy: 0.5605\n",
            "Epoch 74/100\n",
            "126/126 [==============================] - 65s 514ms/step - loss: 0.0425 - accuracy: 0.9860 - val_loss: 1.4744 - val_accuracy: 0.6469\n",
            "Epoch 75/100\n",
            "126/126 [==============================] - 65s 514ms/step - loss: 0.0555 - accuracy: 0.9828 - val_loss: 1.7885 - val_accuracy: 0.6210\n",
            "Epoch 76/100\n",
            "126/126 [==============================] - 65s 512ms/step - loss: 0.0400 - accuracy: 0.9886 - val_loss: 1.2280 - val_accuracy: 0.7006\n",
            "Epoch 77/100\n",
            "126/126 [==============================] - 65s 513ms/step - loss: 0.0494 - accuracy: 0.9857 - val_loss: 1.4724 - val_accuracy: 0.6864\n",
            "Epoch 78/100\n",
            "126/126 [==============================] - 65s 512ms/step - loss: 0.0511 - accuracy: 0.9820 - val_loss: 1.3633 - val_accuracy: 0.6679\n",
            "Epoch 79/100\n",
            "126/126 [==============================] - 65s 514ms/step - loss: 0.0425 - accuracy: 0.9847 - val_loss: 1.5667 - val_accuracy: 0.6636\n",
            "Epoch 80/100\n",
            "126/126 [==============================] - 65s 515ms/step - loss: 0.0362 - accuracy: 0.9876 - val_loss: 1.5564 - val_accuracy: 0.6389\n",
            "Epoch 81/100\n",
            "126/126 [==============================] - 65s 514ms/step - loss: 0.0391 - accuracy: 0.9860 - val_loss: 1.5690 - val_accuracy: 0.6630\n",
            "Epoch 82/100\n",
            "126/126 [==============================] - 65s 515ms/step - loss: 0.0491 - accuracy: 0.9839 - val_loss: 1.9532 - val_accuracy: 0.6259\n",
            "Epoch 83/100\n",
            "126/126 [==============================] - 65s 514ms/step - loss: 0.0345 - accuracy: 0.9884 - val_loss: 1.8988 - val_accuracy: 0.6198\n",
            "Epoch 84/100\n",
            "126/126 [==============================] - 65s 515ms/step - loss: 0.0577 - accuracy: 0.9820 - val_loss: 2.3794 - val_accuracy: 0.5765\n",
            "Epoch 85/100\n",
            "126/126 [==============================] - 65s 515ms/step - loss: 0.0452 - accuracy: 0.9857 - val_loss: 2.2340 - val_accuracy: 0.5975\n",
            "Epoch 86/100\n",
            "126/126 [==============================] - 65s 514ms/step - loss: 0.0339 - accuracy: 0.9873 - val_loss: 1.9130 - val_accuracy: 0.6420\n",
            "Epoch 87/100\n",
            "126/126 [==============================] - 65s 514ms/step - loss: 0.0292 - accuracy: 0.9902 - val_loss: 1.7760 - val_accuracy: 0.6222\n",
            "Epoch 88/100\n",
            "126/126 [==============================] - 65s 514ms/step - loss: 0.0321 - accuracy: 0.9910 - val_loss: 2.0385 - val_accuracy: 0.6370\n",
            "Epoch 89/100\n",
            "126/126 [==============================] - 65s 515ms/step - loss: 0.0549 - accuracy: 0.9825 - val_loss: 2.0843 - val_accuracy: 0.6198\n",
            "Epoch 90/100\n",
            "126/126 [==============================] - 65s 514ms/step - loss: 0.0361 - accuracy: 0.9854 - val_loss: 1.3755 - val_accuracy: 0.6840\n",
            "Epoch 91/100\n",
            "126/126 [==============================] - 65s 513ms/step - loss: 0.0309 - accuracy: 0.9892 - val_loss: 1.4832 - val_accuracy: 0.6759\n",
            "Epoch 92/100\n",
            "126/126 [==============================] - 65s 514ms/step - loss: 0.0328 - accuracy: 0.9892 - val_loss: 1.5338 - val_accuracy: 0.6895\n",
            "Epoch 93/100\n",
            "126/126 [==============================] - 66s 519ms/step - loss: 0.0444 - accuracy: 0.9854 - val_loss: 1.1498 - val_accuracy: 0.7241\n",
            "Epoch 94/100\n",
            "126/126 [==============================] - 65s 518ms/step - loss: 0.0480 - accuracy: 0.9825 - val_loss: 1.3602 - val_accuracy: 0.6994\n",
            "Epoch 95/100\n",
            "126/126 [==============================] - 65s 517ms/step - loss: 0.0451 - accuracy: 0.9868 - val_loss: 2.0493 - val_accuracy: 0.6309\n",
            "Epoch 96/100\n",
            "126/126 [==============================] - 65s 518ms/step - loss: 0.0353 - accuracy: 0.9889 - val_loss: 1.7228 - val_accuracy: 0.6556\n",
            "Epoch 97/100\n",
            "126/126 [==============================] - 65s 517ms/step - loss: 0.0345 - accuracy: 0.9878 - val_loss: 1.8553 - val_accuracy: 0.6253\n",
            "Epoch 98/100\n",
            "126/126 [==============================] - 65s 518ms/step - loss: 0.0451 - accuracy: 0.9854 - val_loss: 1.6584 - val_accuracy: 0.6574\n",
            "Epoch 99/100\n",
            "126/126 [==============================] - 65s 519ms/step - loss: 0.0338 - accuracy: 0.9873 - val_loss: 2.2956 - val_accuracy: 0.6000\n",
            "Epoch 100/100\n",
            "126/126 [==============================] - 65s 518ms/step - loss: 0.0375 - accuracy: 0.9878 - val_loss: 1.9818 - val_accuracy: 0.5883\n"
          ]
        }
      ],
      "source": [
        "# Train model with 100 epochs\n",
        "history = model.fit_generator(generator = train_data, validation_data = validation_data, epochs=100)"
      ]
    },
    {
      "cell_type": "code",
      "execution_count": null,
      "metadata": {
        "id": "84mk9Br2Bws7",
        "colab": {
          "base_uri": "https://localhost:8080/",
          "height": 545
        },
        "outputId": "b7ff91fe-6c31-446e-cc2b-4bf9965a5b1a"
      },
      "outputs": [
        {
          "output_type": "display_data",
          "data": {
            "text/plain": [
              "<Figure size 432x288 with 1 Axes>"
            ],
            "image/png": "[encoded data removed]"
          },
          "metadata": {
            "needs_background": "light"
          }
        },
        {
          "output_type": "display_data",
          "data": {
            "text/plain": [
              "<Figure size 432x288 with 1 Axes>"
            ],
            "image/png": "[encoded data removed]"
          },
          "metadata": {
            "needs_background": "light"
          }
        }
      ],
      "source": [
        "# Plot the chart for accuracy and loss on both training and validation\n",
        "acc = history.history['accuracy']\n",
        "val_acc = history.history['val_accuracy']\n",
        "loss = history.history['loss']\n",
        "val_loss = history.history['val_loss']\n",
        "\n",
        "epochs = range(len(acc))\n",
        "\n",
        "plt.plot(epochs, acc, 'r', label='Training accuracy')\n",
        "plt.plot(epochs, val_acc, 'b', label='Validation accuracy')\n",
        "plt.title('Training and validation accuracy')\n",
        "plt.legend()\n",
        "plt.figure()\n",
        "\n",
        "plt.plot(epochs, loss, 'r', label='Training Loss')\n",
        "plt.plot(epochs, val_loss, 'b', label='Validation Loss')\n",
        "plt.title('Training and validation loss')\n",
        "plt.legend()\n",
        "\n",
        "plt.show()"
      ]
    },
    {
      "cell_type": "code",
      "execution_count": null,
      "metadata": {
        "id": "DQhM0dtJBwvG"
      },
      "outputs": [],
      "source": [
        "# Save model into .h5 format\n",
        "model.save('Aksara_Sunda_Classification.h5',save_format=\".h5\")"
      ]
    },
    {
      "cell_type": "code",
      "execution_count": null,
      "metadata": {
        "id": "jaus5OwKBwxX",
        "colab": {
          "base_uri": "https://localhost:8080/"
        },
        "outputId": "523dd3e4-9f1f-4721-d10f-35934d10978a"
      },
      "outputs": [
        {
          "output_type": "stream",
          "name": "stdout",
          "text": [
            "INFO:tensorflow:Assets written to: /tmp/tmpc0vvt7jv/assets\n"
          ]
        },
        {
          "output_type": "stream",
          "name": "stderr",
          "text": [
            "WARNING:absl:Buffer deduplication procedure will be skipped when flatbuffer library is not properly loaded\n"
          ]
        },
        {
          "output_type": "execute_result",
          "data": {
            "text/plain": [
              "10465148"
            ]
          },
          "metadata": {},
          "execution_count": 10
        }
      ],
      "source": [
        "# Convert into TFLite\n",
        "converter = tf.lite.TFLiteConverter.from_keras_model(model)\n",
        "tflite_model = converter.convert()\n",
        "open('Aksara_Sunda.tflite', 'wb').write(tflite_model)"
      ]
    }
  ],
  "metadata": {
    "accelerator": "GPU",
    "colab": {
      "name": "Sunda Aksara Classification.ipynb",
      "provenance": [],
      "collapsed_sections": []
    },
    "kernelspec": {
      "display_name": "Python 3",
      "name": "python3"
    },
    "language_info": {
      "name": "python"
    }
  },
  "nbformat": 4,
  "nbformat_minor": 0
}