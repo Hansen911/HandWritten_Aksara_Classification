{
  "cells": [
    {
      "cell_type": "markdown",
      "metadata": {
        "id": "GXDFQODKBFdc"
      },
      "source": [
        "# Sunda Aksara Classification"
      ]
    },
    {
      "cell_type": "markdown",
      "metadata": {
        "id": "QkpTV5QVO6B7"
      },
      "source": [
        "Import raw data into colab"
      ]
    },
    {
      "cell_type": "code",
      "execution_count": null,
      "metadata": {
        "colab": {
          "base_uri": "https://localhost:8080/"
        },
        "id": "e1mqCZBgN-QH",
        "outputId": "88bda38e-bd53-4181-e771-a9168b8555b7"
      },
      "outputs": [
        {
          "output_type": "stream",
          "name": "stdout",
          "text": [
            "Cloning into 'AksaraSundaCNN'...\n",
            "remote: Enumerating objects: 5780, done.\u001b[K\n",
            "remote: Counting objects: 100% (13/13), done.\u001b[K\n",
            "remote: Compressing objects: 100% (12/12), done.\u001b[K\n",
            "remote: Total 5780 (delta 3), reused 0 (delta 0), pack-reused 5767\u001b[K\n",
            "Receiving objects: 100% (5780/5780), 145.21 MiB | 36.59 MiB/s, done.\n",
            "Resolving deltas: 100% (299/299), done.\n",
            "Checking out files: 100% (11371/11371), done.\n"
          ]
        }
      ],
      "source": [
        "!git clone https://github.com/ridhomujizat/AksaraSundaCNN/"
      ]
    },
    {
      "cell_type": "markdown",
      "metadata": {
        "id": "4reN49DdO-af"
      },
      "source": [
        "Import package that we need"
      ]
    },
    {
      "cell_type": "code",
      "execution_count": null,
      "metadata": {
        "id": "3hLZzBcTO_3v"
      },
      "outputs": [],
      "source": [
        "import os\n",
        "import random\n",
        "import tensorflow as tf\n",
        "import matplotlib.pyplot as plt\n",
        "from tensorflow.keras.preprocessing.image import ImageDataGenerator, array_to_img\n",
        "import pandas as pd\n",
        "import numpy as np\n",
        "import matplotlib.pyplot as plt\n",
        "%matplotlib inline\n",
        "from skimage.io import imread, imshow"
      ]
    },
    {
      "cell_type": "markdown",
      "metadata": {
        "id": "saeaCESDPCSm"
      },
      "source": [
        "Define root directory "
      ]
    },
    {
      "cell_type": "code",
      "execution_count": null,
      "metadata": {
        "id": "l3LPfHBmO6tC"
      },
      "outputs": [],
      "source": [
        "root_path = '/content/AksaraSundaCNN'\n",
        "\n",
        "root_path_train = os.path.join(root_path, 'train')\n",
        "root_path_test = os.path.join(root_path, 'test')"
      ]
    },
    {
      "cell_type": "markdown",
      "metadata": {
        "id": "hNHx2XHjPFu5"
      },
      "source": [
        "Do the image augmentation and rescale image"
      ]
    },
    {
      "cell_type": "code",
      "execution_count": null,
      "metadata": {
        "colab": {
          "base_uri": "https://localhost:8080/"
        },
        "id": "dFCkhI6GBdaN",
        "outputId": "0056991e-a1c4-4f6c-d324-28e6536375e6"
      },
      "outputs": [
        {
          "output_type": "stream",
          "name": "stdout",
          "text": [
            "Found 3780 images belonging to 18 classes.\n",
            "Found 1620 images belonging to 18 classes.\n"
          ]
        }
      ],
      "source": [
        "train_datagen = ImageDataGenerator(rescale = 1./255,\n",
        "                                   width_shift_range = 0.2, height_shift_range = 0.2,\n",
        "                                   shear_range = 0.2, zoom_range = 0.2, fill_mode='nearest')\n",
        "\n",
        "train_data = train_datagen.flow_from_directory(\n",
        "    directory=root_path_train,\n",
        "    target_size=(112,112),\n",
        "    color_mode=\"grayscale\",\n",
        "    batch_size=30)\n",
        "\n",
        "validation_datagen = ImageDataGenerator(rescale = 1./255)\n",
        "\n",
        "validation_data = validation_datagen.flow_from_directory(\n",
        "    directory=root_path_test,\n",
        "    target_size=(112,112),\n",
        "    color_mode=\"grayscale\",\n",
        "    batch_size=30)"
      ]
    },
    {
      "cell_type": "markdown",
      "metadata": {
        "id": "pZKFf1VZYN3E"
      },
      "source": [
        "Fitur gambar"
      ]
    },
    {
      "cell_type": "code",
      "execution_count": null,
      "metadata": {
        "colab": {
          "base_uri": "https://localhost:8080/",
          "height": 419
        },
        "id": "WKvgVwNXYN-F",
        "outputId": "f7835f7d-0577-40ad-d3de-f22149a0f6eb"
      },
      "outputs": [
        {
          "output_type": "execute_result",
          "data": {
            "text/plain": [
              "((354, 354), array([[1., 1., 1., ..., 1., 1., 1.],\n",
              "        [1., 1., 1., ..., 1., 1., 1.],\n",
              "        [1., 1., 1., ..., 1., 1., 1.],\n",
              "        ...,\n",
              "        [1., 1., 1., ..., 1., 1., 1.],\n",
              "        [1., 1., 1., ..., 1., 1., 1.],\n",
              "        [1., 1., 1., ..., 1., 1., 1.]]))"
            ]
          },
          "metadata": {},
          "execution_count": 6
        },
        {
          "output_type": "display_data",
          "data": {
            "text/plain": [
              "<Figure size 432x288 with 1 Axes>"
            ],
            "image/png": "[encoded data removed]"
          },
          "metadata": {
            "needs_background": "light"
          }
        }
      ],
      "source": [
        "image = imread('/content/AksaraSundaCNN/train/ba/ba.105.jpg', as_gray=True)\n",
        "imshow(image)\n",
        "#checking image shape \n",
        "image.shape, image"
      ]
    },
    {
      "cell_type": "markdown",
      "metadata": {
        "id": "GAnpeAWbPNqg"
      },
      "source": [
        "Define the model"
      ]
    },
    {
      "cell_type": "code",
      "execution_count": null,
      "metadata": {
        "id": "WZRk9bYOBwmE"
      },
      "outputs": [],
      "source": [
        "from tensorflow.keras.optimizers import RMSprop\n",
        "from tensorflow import keras\n",
        "model = tf.keras.models.Sequential([ \n",
        "      tf.keras.layers.Conv2D(256, (5,5), activation = 'relu', padding = 'same', input_shape=(112,112,1)),\n",
        "      tf.keras.layers.LeakyReLU(alpha=0.2),\n",
        "      tf.keras.layers.MaxPooling2D(2,2),\n",
        "      tf.keras.layers.Conv2D(256, (5,5)),\n",
        "      tf.keras.layers.LeakyReLU(alpha=0.3),\n",
        "      tf.keras.layers.MaxPooling2D(2,2),\n",
        "      tf.keras.layers.Conv2D(128, (5,5)),\n",
        "      tf.keras.layers.LeakyReLU(alpha=0.3),\n",
        "      tf.keras.layers.MaxPooling2D(2,2),\n",
        "      tf.keras.layers.Dropout(0.2),\n",
        "      tf.keras.layers.GlobalMaxPool2D(),\n",
        "      tf.keras.layers.Dense(1024),\n",
        "      tf.keras.layers.LeakyReLU(alpha=0.2),\n",
        "      tf.keras.layers.Dense(18, activation = 'softmax')\n",
        "  ])\n",
        "\n",
        "\n",
        "model.compile(optimizer=keras.optimizers.Adam(learning_rate=0.0005),\n",
        "                loss = tf.keras.losses.CategoricalCrossentropy(),\n",
        "                metrics = ['accuracy'])"
      ]
    },
    {
      "cell_type": "markdown",
      "metadata": {
        "id": "-91GjrslPPnk"
      },
      "source": [
        "Show model summary"
      ]
    },
    {
      "cell_type": "code",
      "execution_count": null,
      "metadata": {
        "colab": {
          "base_uri": "https://localhost:8080/"
        },
        "id": "Eyv9PEw9Bwoa",
        "outputId": "8df38220-2a26-4295-f156-b582c5cb4eb4"
      },
      "outputs": [
        {
          "name": "stdout",
          "output_type": "stream",
          "text": [
            "Model: \"sequential\"\n",
            "_________________________________________________________________\n",
            " Layer (type)                Output Shape              Param #   \n",
            "=================================================================\n",
            " conv2d (Conv2D)             (None, 112, 112, 256)     6656      \n",
            "                                                                 \n",
            " leaky_re_lu (LeakyReLU)     (None, 112, 112, 256)     0         \n",
            "                                                                 \n",
            " max_pooling2d (MaxPooling2D  (None, 56, 56, 256)      0         \n",
            " )                                                               \n",
            "                                                                 \n",
            " conv2d_1 (Conv2D)           (None, 52, 52, 256)       1638656   \n",
            "                                                                 \n",
            " leaky_re_lu_1 (LeakyReLU)   (None, 52, 52, 256)       0         \n",
            "                                                                 \n",
            " max_pooling2d_1 (MaxPooling  (None, 26, 26, 256)      0         \n",
            " 2D)                                                             \n",
            "                                                                 \n",
            " conv2d_2 (Conv2D)           (None, 22, 22, 128)       819328    \n",
            "                                                                 \n",
            " leaky_re_lu_2 (LeakyReLU)   (None, 22, 22, 128)       0         \n",
            "                                                                 \n",
            " max_pooling2d_2 (MaxPooling  (None, 11, 11, 128)      0         \n",
            " 2D)                                                             \n",
            "                                                                 \n",
            " dropout (Dropout)           (None, 11, 11, 128)       0         \n",
            "                                                                 \n",
            " global_max_pooling2d (Globa  (None, 128)              0         \n",
            " lMaxPooling2D)                                                  \n",
            "                                                                 \n",
            " dense (Dense)               (None, 1024)              132096    \n",
            "                                                                 \n",
            " leaky_re_lu_3 (LeakyReLU)   (None, 1024)              0         \n",
            "                                                                 \n",
            " dense_1 (Dense)             (None, 18)                18450     \n",
            "                                                                 \n",
            "=================================================================\n",
            "Total params: 2,615,186\n",
            "Trainable params: 2,615,186\n",
            "Non-trainable params: 0\n",
            "_________________________________________________________________\n"
          ]
        }
      ],
      "source": [
        "model.summary()"
      ]
    },
    {
      "cell_type": "markdown",
      "metadata": {
        "id": "Ri0QKtH6PSPR"
      },
      "source": [
        "Train model with 100 epochs"
      ]
    },
    {
      "cell_type": "code",
      "execution_count": null,
      "metadata": {
        "colab": {
          "background_save": true,
          "base_uri": "https://localhost:8080/"
        },
        "id": "wrhH81MEBwqh",
        "outputId": "c0c9048d-80ce-4a9e-a40c-9c6f6ef64bab"
      },
      "outputs": [
        {
          "name": "stderr",
          "output_type": "stream",
          "text": [
            "/usr/local/lib/python3.7/dist-packages/ipykernel_launcher.py:1: UserWarning: `Model.fit_generator` is deprecated and will be removed in a future version. Please use `Model.fit`, which supports generators.\n",
            "  \"\"\"Entry point for launching an IPython kernel.\n"
          ]
        },
        {
          "name": "stdout",
          "output_type": "stream",
          "text": [
            "Epoch 1/100\n",
            "126/126 [==============================] - 82s 506ms/step - loss: 2.6990 - accuracy: 0.1108 - val_loss: 2.4270 - val_accuracy: 0.2099\n",
            "Epoch 2/100\n",
            "126/126 [==============================] - 63s 499ms/step - loss: 1.4496 - accuracy: 0.4971 - val_loss: 1.6424 - val_accuracy: 0.4704\n",
            "Epoch 3/100\n",
            "126/126 [==============================] - 63s 498ms/step - loss: 0.6277 - accuracy: 0.7767 - val_loss: 1.4680 - val_accuracy: 0.5531\n",
            "Epoch 4/100\n",
            "126/126 [==============================] - 63s 497ms/step - loss: 0.3773 - accuracy: 0.8643 - val_loss: 1.3707 - val_accuracy: 0.5451\n",
            "Epoch 5/100\n",
            "126/126 [==============================] - 63s 498ms/step - loss: 0.2706 - accuracy: 0.9034 - val_loss: 1.8199 - val_accuracy: 0.5321\n",
            "Epoch 6/100\n",
            "126/126 [==============================] - 63s 498ms/step - loss: 0.2272 - accuracy: 0.9198 - val_loss: 1.3649 - val_accuracy: 0.6284\n",
            "Epoch 7/100\n",
            "126/126 [==============================] - 63s 499ms/step - loss: 0.1916 - accuracy: 0.9304 - val_loss: 1.3348 - val_accuracy: 0.6414\n",
            "Epoch 8/100\n",
            "126/126 [==============================] - 63s 498ms/step - loss: 0.1792 - accuracy: 0.9381 - val_loss: 1.3641 - val_accuracy: 0.5975\n",
            "Epoch 9/100\n",
            "126/126 [==============================] - 63s 498ms/step - loss: 0.1673 - accuracy: 0.9431 - val_loss: 1.4513 - val_accuracy: 0.6136\n",
            "Epoch 10/100\n",
            "126/126 [==============================] - 63s 498ms/step - loss: 0.1424 - accuracy: 0.9542 - val_loss: 1.4721 - val_accuracy: 0.5877\n",
            "Epoch 11/100\n",
            "126/126 [==============================] - 63s 500ms/step - loss: 0.1482 - accuracy: 0.9524 - val_loss: 1.5022 - val_accuracy: 0.5802\n",
            "Epoch 12/100\n",
            "126/126 [==============================] - 63s 501ms/step - loss: 0.1232 - accuracy: 0.9550 - val_loss: 1.2501 - val_accuracy: 0.6568\n",
            "Epoch 13/100\n",
            "126/126 [==============================] - 63s 501ms/step - loss: 0.1192 - accuracy: 0.9577 - val_loss: 1.3553 - val_accuracy: 0.6049\n",
            "Epoch 14/100\n",
            "126/126 [==============================] - 63s 500ms/step - loss: 0.1102 - accuracy: 0.9651 - val_loss: 1.0463 - val_accuracy: 0.6772\n",
            "Epoch 15/100\n",
            "126/126 [==============================] - 63s 500ms/step - loss: 0.0902 - accuracy: 0.9696 - val_loss: 1.6184 - val_accuracy: 0.6136\n",
            "Epoch 16/100\n",
            "126/126 [==============================] - 64s 503ms/step - loss: 0.1053 - accuracy: 0.9651 - val_loss: 1.3632 - val_accuracy: 0.6432\n",
            "Epoch 17/100\n",
            "126/126 [==============================] - 64s 506ms/step - loss: 0.1030 - accuracy: 0.9659 - val_loss: 1.1064 - val_accuracy: 0.6679\n",
            "Epoch 18/100\n",
            "126/126 [==============================] - 64s 503ms/step - loss: 0.1047 - accuracy: 0.9640 - val_loss: 1.7865 - val_accuracy: 0.5765\n",
            "Epoch 19/100\n",
            "126/126 [==============================] - 64s 507ms/step - loss: 0.0902 - accuracy: 0.9698 - val_loss: 1.7296 - val_accuracy: 0.5506\n",
            "Epoch 20/100\n",
            "126/126 [==============================] - 64s 503ms/step - loss: 0.0895 - accuracy: 0.9698 - val_loss: 1.3870 - val_accuracy: 0.6519\n",
            "Epoch 21/100\n",
            "126/126 [==============================] - 64s 507ms/step - loss: 0.0766 - accuracy: 0.9741 - val_loss: 1.2407 - val_accuracy: 0.6796\n",
            "Epoch 22/100\n",
            "126/126 [==============================] - 63s 500ms/step - loss: 0.0915 - accuracy: 0.9730 - val_loss: 1.5725 - val_accuracy: 0.6457\n",
            "Epoch 23/100\n",
            "126/126 [==============================] - 63s 500ms/step - loss: 0.0874 - accuracy: 0.9746 - val_loss: 1.4153 - val_accuracy: 0.6253\n",
            "Epoch 24/100\n",
            "126/126 [==============================] - 63s 501ms/step - loss: 0.0839 - accuracy: 0.9698 - val_loss: 1.2421 - val_accuracy: 0.6401\n",
            "Epoch 25/100\n",
            "126/126 [==============================] - 63s 498ms/step - loss: 0.0824 - accuracy: 0.9704 - val_loss: 1.0058 - val_accuracy: 0.7130\n",
            "Epoch 26/100\n",
            "126/126 [==============================] - 63s 498ms/step - loss: 0.0759 - accuracy: 0.9743 - val_loss: 1.0683 - val_accuracy: 0.7549\n",
            "Epoch 27/100\n",
            "126/126 [==============================] - 63s 499ms/step - loss: 0.0741 - accuracy: 0.9778 - val_loss: 1.0910 - val_accuracy: 0.7136\n",
            "Epoch 28/100\n",
            "126/126 [==============================] - 63s 497ms/step - loss: 0.0664 - accuracy: 0.9783 - val_loss: 1.2552 - val_accuracy: 0.6741\n",
            "Epoch 29/100\n",
            "126/126 [==============================] - 63s 498ms/step - loss: 0.0745 - accuracy: 0.9775 - val_loss: 1.5053 - val_accuracy: 0.6562\n",
            "Epoch 30/100\n",
            "126/126 [==============================] - 63s 498ms/step - loss: 0.0961 - accuracy: 0.9701 - val_loss: 1.6685 - val_accuracy: 0.5963\n",
            "Epoch 31/100\n",
            "126/126 [==============================] - 63s 500ms/step - loss: 0.0610 - accuracy: 0.9767 - val_loss: 2.3256 - val_accuracy: 0.5648\n",
            "Epoch 32/100\n",
            "126/126 [==============================] - 63s 499ms/step - loss: 0.0781 - accuracy: 0.9746 - val_loss: 1.6728 - val_accuracy: 0.6512\n",
            "Epoch 33/100\n",
            "126/126 [==============================] - 63s 501ms/step - loss: 0.0602 - accuracy: 0.9807 - val_loss: 1.6206 - val_accuracy: 0.6068\n",
            "Epoch 34/100\n",
            "126/126 [==============================] - 63s 497ms/step - loss: 0.0654 - accuracy: 0.9775 - val_loss: 1.7689 - val_accuracy: 0.6074\n",
            "Epoch 35/100\n",
            "126/126 [==============================] - 63s 498ms/step - loss: 0.0727 - accuracy: 0.9762 - val_loss: 2.5707 - val_accuracy: 0.4994\n",
            "Epoch 36/100\n",
            "126/126 [==============================] - 64s 507ms/step - loss: 0.0784 - accuracy: 0.9741 - val_loss: 2.9087 - val_accuracy: 0.5074\n",
            "Epoch 37/100\n",
            "126/126 [==============================] - 64s 509ms/step - loss: 0.0641 - accuracy: 0.9765 - val_loss: 1.2299 - val_accuracy: 0.6889\n",
            "Epoch 38/100\n",
            "126/126 [==============================] - 63s 500ms/step - loss: 0.0573 - accuracy: 0.9804 - val_loss: 1.4471 - val_accuracy: 0.6728\n",
            "Epoch 39/100\n",
            "126/126 [==============================] - 63s 498ms/step - loss: 0.0542 - accuracy: 0.9820 - val_loss: 1.8676 - val_accuracy: 0.5969\n",
            "Epoch 40/100\n",
            "126/126 [==============================] - 63s 499ms/step - loss: 0.0545 - accuracy: 0.9796 - val_loss: 1.8532 - val_accuracy: 0.6333\n",
            "Epoch 41/100\n",
            "126/126 [==============================] - 63s 497ms/step - loss: 0.0778 - accuracy: 0.9754 - val_loss: 2.6025 - val_accuracy: 0.4469\n",
            "Epoch 42/100\n",
            "126/126 [==============================] - 63s 498ms/step - loss: 0.0670 - accuracy: 0.9767 - val_loss: 1.3691 - val_accuracy: 0.6809\n",
            "Epoch 43/100\n",
            "126/126 [==============================] - 63s 497ms/step - loss: 0.0427 - accuracy: 0.9841 - val_loss: 1.9917 - val_accuracy: 0.5932\n",
            "Epoch 44/100\n",
            "126/126 [==============================] - 63s 498ms/step - loss: 0.0470 - accuracy: 0.9847 - val_loss: 1.6765 - val_accuracy: 0.6537\n",
            "Epoch 45/100\n",
            "126/126 [==============================] - 63s 497ms/step - loss: 0.0658 - accuracy: 0.9783 - val_loss: 2.0776 - val_accuracy: 0.5747\n",
            "Epoch 46/100\n",
            "126/126 [==============================] - 63s 498ms/step - loss: 0.0666 - accuracy: 0.9765 - val_loss: 2.2393 - val_accuracy: 0.5710\n",
            "Epoch 47/100\n",
            "126/126 [==============================] - 63s 497ms/step - loss: 0.0511 - accuracy: 0.9823 - val_loss: 1.7752 - val_accuracy: 0.6000\n",
            "Epoch 48/100\n",
            "126/126 [==============================] - 63s 497ms/step - loss: 0.0481 - accuracy: 0.9841 - val_loss: 1.9864 - val_accuracy: 0.6043\n",
            "Epoch 49/100\n",
            "126/126 [==============================] - 63s 497ms/step - loss: 0.0494 - accuracy: 0.9839 - val_loss: 2.5274 - val_accuracy: 0.5395\n",
            "Epoch 50/100\n",
            "126/126 [==============================] - 63s 500ms/step - loss: 0.0430 - accuracy: 0.9868 - val_loss: 2.4494 - val_accuracy: 0.5420\n",
            "Epoch 51/100\n",
            "126/126 [==============================] - 63s 497ms/step - loss: 0.0503 - accuracy: 0.9833 - val_loss: 1.9130 - val_accuracy: 0.6117\n",
            "Epoch 52/100\n",
            "126/126 [==============================] - 63s 497ms/step - loss: 0.0547 - accuracy: 0.9815 - val_loss: 1.9281 - val_accuracy: 0.6160\n",
            "Epoch 53/100\n",
            "126/126 [==============================] - 63s 497ms/step - loss: 0.0441 - accuracy: 0.9870 - val_loss: 1.6483 - val_accuracy: 0.6475\n",
            "Epoch 54/100\n",
            "126/126 [==============================] - 63s 496ms/step - loss: 0.0437 - accuracy: 0.9854 - val_loss: 1.7072 - val_accuracy: 0.6580\n",
            "Epoch 55/100\n",
            "126/126 [==============================] - 63s 499ms/step - loss: 0.0453 - accuracy: 0.9833 - val_loss: 1.8591 - val_accuracy: 0.5778\n",
            "Epoch 56/100\n",
            "126/126 [==============================] - 63s 496ms/step - loss: 0.0522 - accuracy: 0.9815 - val_loss: 2.1484 - val_accuracy: 0.5753\n",
            "Epoch 57/100\n",
            "126/126 [==============================] - 63s 497ms/step - loss: 0.0539 - accuracy: 0.9812 - val_loss: 1.7215 - val_accuracy: 0.7037\n",
            "Epoch 58/100\n",
            "126/126 [==============================] - 63s 497ms/step - loss: 0.0397 - accuracy: 0.9860 - val_loss: 2.1021 - val_accuracy: 0.6068\n",
            "Epoch 59/100\n",
            "126/126 [==============================] - 63s 497ms/step - loss: 0.0567 - accuracy: 0.9823 - val_loss: 2.0716 - val_accuracy: 0.6062\n",
            "Epoch 60/100\n",
            "126/126 [==============================] - 63s 497ms/step - loss: 0.0452 - accuracy: 0.9839 - val_loss: 1.4681 - val_accuracy: 0.6716\n",
            "Epoch 61/100\n",
            "126/126 [==============================] - 63s 497ms/step - loss: 0.0511 - accuracy: 0.9833 - val_loss: 1.7569 - val_accuracy: 0.6580\n",
            "Epoch 62/100\n",
            "126/126 [==============================] - 63s 496ms/step - loss: 0.0505 - accuracy: 0.9828 - val_loss: 1.2039 - val_accuracy: 0.7346\n",
            "Epoch 63/100\n",
            "126/126 [==============================] - 63s 497ms/step - loss: 0.0496 - accuracy: 0.9841 - val_loss: 2.0953 - val_accuracy: 0.6019\n",
            "Epoch 64/100\n",
            "126/126 [==============================] - 63s 497ms/step - loss: 0.0522 - accuracy: 0.9831 - val_loss: 2.3190 - val_accuracy: 0.5654\n",
            "Epoch 65/100\n",
            "126/126 [==============================] - 63s 497ms/step - loss: 0.0478 - accuracy: 0.9854 - val_loss: 2.5147 - val_accuracy: 0.5185\n",
            "Epoch 66/100\n",
            "126/126 [==============================] - 63s 496ms/step - loss: 0.0541 - accuracy: 0.9841 - val_loss: 1.5608 - val_accuracy: 0.6932\n",
            "Epoch 67/100\n",
            "126/126 [==============================] - 63s 502ms/step - loss: 0.0443 - accuracy: 0.9868 - val_loss: 1.5692 - val_accuracy: 0.6605\n",
            "Epoch 68/100\n",
            "126/126 [==============================] - 63s 497ms/step - loss: 0.0428 - accuracy: 0.9873 - val_loss: 1.2486 - val_accuracy: 0.7389\n",
            "Epoch 69/100\n",
            "126/126 [==============================] - 63s 497ms/step - loss: 0.0565 - accuracy: 0.9799 - val_loss: 1.5964 - val_accuracy: 0.6877\n",
            "Epoch 70/100\n",
            "126/126 [==============================] - 63s 497ms/step - loss: 0.0493 - accuracy: 0.9852 - val_loss: 1.4960 - val_accuracy: 0.6772\n",
            "Epoch 71/100\n",
            "126/126 [==============================] - 63s 497ms/step - loss: 0.0403 - accuracy: 0.9865 - val_loss: 2.2848 - val_accuracy: 0.5568\n",
            "Epoch 72/100\n",
            "126/126 [==============================] - 63s 497ms/step - loss: 0.0448 - accuracy: 0.9836 - val_loss: 1.3452 - val_accuracy: 0.6975\n",
            "Epoch 73/100\n",
            "126/126 [==============================] - 63s 496ms/step - loss: 0.0326 - accuracy: 0.9884 - val_loss: 1.7196 - val_accuracy: 0.6346\n",
            "Epoch 74/100\n",
            "126/126 [==============================] - 63s 496ms/step - loss: 0.0387 - accuracy: 0.9892 - val_loss: 2.1303 - val_accuracy: 0.6154\n",
            "Epoch 75/100\n",
            "126/126 [==============================] - 63s 497ms/step - loss: 0.0317 - accuracy: 0.9897 - val_loss: 2.0467 - val_accuracy: 0.6395\n",
            "Epoch 76/100\n",
            "126/126 [==============================] - 63s 496ms/step - loss: 0.0530 - accuracy: 0.9831 - val_loss: 1.5249 - val_accuracy: 0.6784\n",
            "Epoch 77/100\n",
            "126/126 [==============================] - 63s 496ms/step - loss: 0.0750 - accuracy: 0.9733 - val_loss: 2.2966 - val_accuracy: 0.5753\n",
            "Epoch 78/100\n",
            "126/126 [==============================] - 63s 496ms/step - loss: 0.0398 - accuracy: 0.9844 - val_loss: 1.7511 - val_accuracy: 0.6438\n",
            "Epoch 79/100\n",
            "126/126 [==============================] - 63s 497ms/step - loss: 0.0493 - accuracy: 0.9860 - val_loss: 2.7190 - val_accuracy: 0.5265\n",
            "Epoch 80/100\n",
            "126/126 [==============================] - 63s 497ms/step - loss: 0.0484 - accuracy: 0.9833 - val_loss: 2.2917 - val_accuracy: 0.6019\n",
            "Epoch 81/100\n",
            "126/126 [==============================] - 63s 497ms/step - loss: 0.0444 - accuracy: 0.9854 - val_loss: 2.1058 - val_accuracy: 0.5623\n",
            "Epoch 82/100\n",
            "126/126 [==============================] - 63s 497ms/step - loss: 0.0272 - accuracy: 0.9902 - val_loss: 2.4418 - val_accuracy: 0.6142\n",
            "Epoch 83/100\n",
            "126/126 [==============================] - 63s 497ms/step - loss: 0.0370 - accuracy: 0.9857 - val_loss: 2.2638 - val_accuracy: 0.6543\n",
            "Epoch 84/100\n",
            "126/126 [==============================] - 63s 496ms/step - loss: 0.0305 - accuracy: 0.9892 - val_loss: 2.2273 - val_accuracy: 0.6358\n",
            "Epoch 85/100\n",
            "126/126 [==============================] - 63s 497ms/step - loss: 0.0407 - accuracy: 0.9868 - val_loss: 2.3040 - val_accuracy: 0.5938\n",
            "Epoch 86/100\n",
            "126/126 [==============================] - 63s 497ms/step - loss: 0.0412 - accuracy: 0.9862 - val_loss: 1.5725 - val_accuracy: 0.6611\n",
            "Epoch 87/100\n",
            "126/126 [==============================] - 63s 496ms/step - loss: 0.0357 - accuracy: 0.9878 - val_loss: 2.5262 - val_accuracy: 0.5895\n",
            "Epoch 88/100\n",
            "126/126 [==============================] - 63s 497ms/step - loss: 0.0397 - accuracy: 0.9854 - val_loss: 1.8650 - val_accuracy: 0.6352\n",
            "Epoch 89/100\n",
            "126/126 [==============================] - 63s 496ms/step - loss: 0.0346 - accuracy: 0.9878 - val_loss: 2.2589 - val_accuracy: 0.6105\n",
            "Epoch 90/100\n",
            "126/126 [==============================] - 63s 496ms/step - loss: 0.0601 - accuracy: 0.9812 - val_loss: 2.5604 - val_accuracy: 0.6019\n",
            "Epoch 91/100\n",
            "126/126 [==============================] - 63s 497ms/step - loss: 0.0454 - accuracy: 0.9860 - val_loss: 1.7690 - val_accuracy: 0.6463\n",
            "Epoch 92/100\n",
            "126/126 [==============================] - 63s 496ms/step - loss: 0.0351 - accuracy: 0.9905 - val_loss: 2.3485 - val_accuracy: 0.5969\n",
            "Epoch 93/100\n",
            "126/126 [==============================] - 63s 496ms/step - loss: 0.0357 - accuracy: 0.9876 - val_loss: 2.9345 - val_accuracy: 0.5426\n",
            "Epoch 94/100\n",
            "126/126 [==============================] - 63s 497ms/step - loss: 0.0547 - accuracy: 0.9825 - val_loss: 1.9634 - val_accuracy: 0.6506\n",
            "Epoch 95/100\n",
            "126/126 [==============================] - 63s 496ms/step - loss: 0.0384 - accuracy: 0.9876 - val_loss: 3.0364 - val_accuracy: 0.5988\n",
            "Epoch 96/100\n",
            "126/126 [==============================] - 63s 496ms/step - loss: 0.0479 - accuracy: 0.9839 - val_loss: 1.8474 - val_accuracy: 0.6722\n",
            "Epoch 97/100\n",
            "126/126 [==============================] - 63s 496ms/step - loss: 0.0269 - accuracy: 0.9902 - val_loss: 1.6609 - val_accuracy: 0.6759\n",
            "Epoch 98/100\n",
            "126/126 [==============================] - 63s 497ms/step - loss: 0.0292 - accuracy: 0.9892 - val_loss: 2.2687 - val_accuracy: 0.6315\n",
            "Epoch 99/100\n",
            "126/126 [==============================] - 63s 496ms/step - loss: 0.0384 - accuracy: 0.9881 - val_loss: 1.9057 - val_accuracy: 0.6296\n",
            "Epoch 100/100\n",
            "126/126 [==============================] - 63s 496ms/step - loss: 0.0183 - accuracy: 0.9955 - val_loss: 1.5512 - val_accuracy: 0.6846\n"
          ]
        }
      ],
      "source": [
        "history = model.fit_generator(generator = train_data, validation_data = validation_data, epochs=100)"
      ]
    },
    {
      "cell_type": "markdown",
      "metadata": {
        "id": "UPo0ehcpPV0m"
      },
      "source": [
        "Plot the chart for accuracy and loss on both training and validation"
      ]
    },
    {
      "cell_type": "code",
      "execution_count": null,
      "metadata": {
        "colab": {
          "background_save": true
        },
        "id": "84mk9Br2Bws7",
        "outputId": "6f31e961-5f93-4f0a-9e68-00e5d0759026"
      },
      "outputs": [
        {
          "data": {
            "image/png": "[encoded data removed]",
            "text/plain": [
              "<Figure size 432x288 with 1 Axes>"
            ]
          },
          "metadata": {},
          "output_type": "display_data"
        },
        {
          "data": {
            "image/png": "[encoded data removed]",
            "text/plain": [
              "<Figure size 432x288 with 1 Axes>"
            ]
          },
          "metadata": {},
          "output_type": "display_data"
        }
      ],
      "source": [
        "acc = history.history['accuracy']\n",
        "val_acc = history.history['val_accuracy']\n",
        "loss = history.history['loss']\n",
        "val_loss = history.history['val_loss']\n",
        "\n",
        "epochs = range(len(acc))\n",
        "\n",
        "plt.plot(epochs, acc, 'r', label='Training accuracy')\n",
        "plt.plot(epochs, val_acc, 'b', label='Validation accuracy')\n",
        "plt.title('Training and validation accuracy')\n",
        "plt.legend()\n",
        "plt.figure()\n",
        "\n",
        "plt.plot(epochs, loss, 'r', label='Training Loss')\n",
        "plt.plot(epochs, val_loss, 'b', label='Validation Loss')\n",
        "plt.title('Training and validation loss')\n",
        "plt.legend()\n",
        "\n",
        "plt.show()"
      ]
    }
  ],
  "metadata": {
    "accelerator": "GPU",
    "colab": {
      "collapsed_sections": [],
      "name": "Copy of Sunda Aksara Classification.ipynb",
      "provenance": []
    },
    "kernelspec": {
      "display_name": "Python 3",
      "name": "python3"
    },
    "language_info": {
      "name": "python"
    }
  },
  "nbformat": 4,
  "nbformat_minor": 0
}